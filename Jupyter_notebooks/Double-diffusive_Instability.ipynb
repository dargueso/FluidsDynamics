{
 "cells": [
  {
   "cell_type": "markdown",
   "id": "fcf67ef2",
   "metadata": {},
   "source": [
    "# Double-diffusive Instability (salt fingers)"
   ]
  },
  {
   "cell_type": "markdown",
   "id": "cdb96e8f",
   "metadata": {},
   "source": [
    "We will represent an incompressible, viscous, diffusive, Boussinesq, double stratified fluid to simulate a double-diffusive instability or salt fingers.\n",
    "\n",
    "<img src=\"./DoubleDiffusive_small.jpeg\" width=\"400\" height=\"200\" />\n",
    "\n",
    "\n",
    "\n",
    "This exercise was designed for the course Waves and Instabilities in Geophysical Fluid Dynamics of the Master's Degree in Advanced Physics and Applied Mathematics, at University of the Balearic Islands (Spain).\n",
    "\n",
    "Author: Daniel Argüeso\n",
    "Email: d.argueso@uib.es\n",
    "\n",
    "Feb-2023"
   ]
  },
  {
   "cell_type": "code",
   "execution_count": null,
   "id": "ed6a7987",
   "metadata": {},
   "outputs": [],
   "source": []
  }
 ],
 "metadata": {
  "kernelspec": {
   "display_name": "Python 3 (ipykernel)",
   "language": "python",
   "name": "python3"
  },
  "language_info": {
   "codemirror_mode": {
    "name": "ipython",
    "version": 3
   },
   "file_extension": ".py",
   "mimetype": "text/x-python",
   "name": "python",
   "nbconvert_exporter": "python",
   "pygments_lexer": "ipython3",
   "version": "3.11.0"
  }
 },
 "nbformat": 4,
 "nbformat_minor": 5
}
