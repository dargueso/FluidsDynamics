{
 "cells": [
  {
   "cell_type": "markdown",
   "id": "fcf67ef2",
   "metadata": {},
   "source": [
    "# Double-diffusive Instability (salt fingers)"
   ]
  },
  {
   "cell_type": "markdown",
   "id": "cdb96e8f",
   "metadata": {},
   "source": [
    "We will represent an incompressible, viscous, diffusive, Boussinesq, double stratified fluid to simulate a double-diffusive instability or salt fingers.\n",
    "\n",
    "<img src=\"./DoubleDiffusive_small.jpeg\" width=\"400\" height=\"200\" />\n",
    "\n",
    "\n",
    "\n",
    "This exercise was designed for the course Waves and Instabilities in Geophysical Fluid Dynamics of the Master's Degree in Advanced Physics and Applied Mathematics, at University of the Balearic Islands (Spain).\n",
    "\n",
    "Author: Daniel Argüeso\n",
    "Email: d.argueso@uib.es\n",
    "\n",
    "Feb-2023"
   ]
  },
  {
   "attachments": {},
   "cell_type": "markdown",
   "id": "4af40ee0",
   "metadata": {},
   "source": [
    "**Equations**\n",
    "\n",
    "See Ku11.5 and Singh and Srinivasan (2014) [https://doi.org/10.1063/1.4882264]\n",
    "\n",
    "$$ \\frac{\\partial \\bold u}{\\partial t} + \\bold u \\cdot \\nabla \\bold u = - \\frac{1}{\\rho_0} - g \\frac{\\rho}{\\rho_0} \\bold {\\hat k} + \\nu \\nabla^2 \\bold u$$\n",
    "$$\\frac{\\partial T}{\\partial t} + \\bold u \\cdot \\nabla T = k_T \\nabla^2 T$$\n",
    "$$\\frac{\\partial S}{\\partial t} + \\bold u \\cdot \\nabla S = k_S \\nabla^2 S$$\n",
    "$$ \\boldsymbol{\\nabla}\\boldsymbol{\\cdot}\\boldsymbol{u} = 0 $$\n",
    "$$ \\frac{\\rho - \\rho_0}{\\rho_0} = \\beta (S - S_0) - \\alpha (T -T0)\n",
    "$$\n"
   ]
  }
 ],
 "metadata": {
  "kernelspec": {
   "display_name": "Python 3 (ipykernel)",
   "language": "python",
   "name": "python3"
  },
  "language_info": {
   "codemirror_mode": {
    "name": "ipython",
    "version": 3
   },
   "file_extension": ".py",
   "mimetype": "text/x-python",
   "name": "python",
   "nbconvert_exporter": "python",
   "pygments_lexer": "ipython3",
   "version": "3.11.0"
  }
 },
 "nbformat": 4,
 "nbformat_minor": 5
}
