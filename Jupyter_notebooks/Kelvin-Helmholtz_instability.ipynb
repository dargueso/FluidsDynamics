{
 "cells": [
  {
   "cell_type": "markdown",
   "id": "c5224daa",
   "metadata": {},
   "source": [
    "# Kelvin-Helmholtz Instability"
   ]
  },
  {
   "cell_type": "markdown",
   "id": "e4a23c3a",
   "metadata": {},
   "source": [
    "We will represent an incompressible, viscous, diffusive, Boussinesq, stratified fluid to simulate a Kelvin-Helmholtz instability.\n",
    "\n",
    "<img src=\"./Stratified_KH_small.jpeg\" width=\"600\" height=\"300\" />\n",
    "\n",
    "\n",
    "\n",
    "This exercise was designed for the course Waves and Instabilities in Geophysical Fluid Dynamics of the Master's Degree in Advanced Physics and Applied Mathematics, at University of the Balearic Islands (Spain).\n",
    "\n",
    "Author: Daniel Argüeso\n",
    "Email: d.argueso@uib.es\n",
    "\n",
    "Feb-2023"
   ]
  },
  {
   "cell_type": "code",
   "execution_count": null,
   "id": "e1207c91",
   "metadata": {},
   "outputs": [],
   "source": [
    "## Import modules\n",
    "import numpy as np\n",
    "from dedalus import public as de\n",
    "from dedalus.extras import flow_tools\n",
    "import matplotlib.pyplot as plt\n",
    "import h5py\n",
    "import time"
   ]
  },
  {
   "cell_type": "code",
   "execution_count": null,
   "id": "1c453c80",
   "metadata": {},
   "outputs": [],
   "source": [
    "## Import and set logging"
   ]
  },
  {
   "cell_type": "code",
   "execution_count": null,
   "id": "4d06b952",
   "metadata": {},
   "outputs": [],
   "source": [
    "import logging\n",
    "root = logging.root\n",
    "for h in root.handlers:\n",
    "    h.setLevel(\"INFO\")\n",
    "logger = logging.getLogger(__name__)"
   ]
  },
  {
   "cell_type": "code",
   "execution_count": null,
   "id": "11c6c8db",
   "metadata": {},
   "outputs": [],
   "source": [
    "## Define the problem"
   ]
  },
  {
   "cell_type": "code",
   "execution_count": null,
   "id": "b6ecad27",
   "metadata": {},
   "outputs": [],
   "source": [
    "### Set problem domain"
   ]
  },
  {
   "cell_type": "code",
   "execution_count": null,
   "id": "a3458ab4",
   "metadata": {},
   "outputs": [],
   "source": [
    "Lx, Ly = (2., 1.)\n",
    "nx, ny = (512, 256)"
   ]
  },
  {
   "cell_type": "code",
   "execution_count": null,
   "id": "f705544c",
   "metadata": {},
   "outputs": [],
   "source": [
    "### Create bases and domain"
   ]
  },
  {
   "cell_type": "code",
   "execution_count": null,
   "id": "d25ba008",
   "metadata": {},
   "outputs": [],
   "source": [
    "x_basis = de.Fourier('x', nx, interval = (0,Lx), dealias =3/2)\n",
    "y_basis = de.Chebyshev('y', ny, interval=(-Ly/2, Ly/2), dealias=3/2)\n",
    "domain = de.Domain([x_basis,y_basis], grid_dtype=np.float64)"
   ]
  },
  {
   "cell_type": "code",
   "execution_count": null,
   "id": "7f2b5241",
   "metadata": {},
   "outputs": [],
   "source": [
    "### Set parameters"
   ]
  },
  {
   "cell_type": "code",
   "execution_count": null,
   "id": "155569c4",
   "metadata": {},
   "outputs": [],
   "source": [
    "Reynolds = 2e4\n",
    "g = 9.81"
   ]
  },
  {
   "cell_type": "code",
   "execution_count": null,
   "id": "cb70b8b4",
   "metadata": {},
   "outputs": [],
   "source": [
    "### Define the problem and the equations"
   ]
  },
  {
   "cell_type": "code",
   "execution_count": null,
   "id": "16095c00",
   "metadata": {},
   "outputs": [],
   "source": [
    "problem = de.IVP(domain, variables = ['p','u','uy','v','vy','rho'])\n"
   ]
  },
  {
   "cell_type": "code",
   "execution_count": null,
   "id": "03f8e862",
   "metadata": {},
   "outputs": [],
   "source": [
    "problem.parameters['Re'] = Reynolds\n",
    "problem.parameters['g'] = g"
   ]
  },
  {
   "cell_type": "markdown",
   "id": "6f02583e",
   "metadata": {},
   "source": [
    "These are the problem equations:"
   ]
  },
  {
   "cell_type": "code",
   "execution_count": null,
   "id": "f5c1a4c2",
   "metadata": {},
   "outputs": [],
   "source": [
    "problem.add_equation(\"dt(u) + dx(p) - 1/Re*(dx(dx(u)) + dy(uy)) = - u*dx(u) - v*dy(u)\")\n",
    "problem.add_equation(\"dt(v) + dy(p) - 1/Re*(dx(dx(v)) + dy(vy)) + g*rho = -u*dx(v) - v*vy\")\n",
    "problem.add_equation(\"dx(u) + vy = 0\")\n",
    "problem.add_equation(\"dt(rho) = -u*dx(rho) - v*dy(rho)\")\n",
    "problem.add_equation(\"vy - dy(v) = 0\")\n",
    "problem.add_equation(\"uy - dy(u) = 0\")"
   ]
  },
  {
   "cell_type": "code",
   "execution_count": null,
   "id": "79d88ee5",
   "metadata": {},
   "outputs": [],
   "source": [
    "### Define the boundary conditions"
   ]
  },
  {
   "cell_type": "code",
   "execution_count": null,
   "id": "06f12228",
   "metadata": {},
   "outputs": [],
   "source": [
    "problem.add_bc(\"left(u) = 1.0\")\n",
    "problem.add_bc(\"right(u) = -1.0\")\n",
    "problem.add_bc(\"left(v) = 0\")\n",
    "problem.add_bc(\"right(v) = 0\", condition=\"(nx != 0)\")\n",
    "problem.add_bc(\"integ(p,'y') = 0\", condition=\"(nx == 0)\")"
   ]
  },
  {
   "cell_type": "code",
   "execution_count": null,
   "id": "e3d527bd",
   "metadata": {},
   "outputs": [],
   "source": [
    "## Define the solver"
   ]
  },
  {
   "cell_type": "code",
   "execution_count": null,
   "id": "537f663b",
   "metadata": {},
   "outputs": [],
   "source": [
    "### Timestepping"
   ]
  },
  {
   "cell_type": "code",
   "execution_count": null,
   "id": "2344a972",
   "metadata": {},
   "outputs": [],
   "source": [
    "ts = de.timesteppers.RK443"
   ]
  },
  {
   "cell_type": "code",
   "execution_count": null,
   "id": "3a68182a",
   "metadata": {},
   "outputs": [],
   "source": [
    "### Building the solver"
   ]
  },
  {
   "cell_type": "code",
   "execution_count": null,
   "id": "ce42acb7",
   "metadata": {},
   "outputs": [],
   "source": [
    "solver =  problem.build_solver(ts)\n",
    "\n",
    "x = domain.grid(0)\n",
    "y = domain.grid(1)\n",
    "u = solver.state['u']\n",
    "uy = solver.state['uy']\n",
    "v = solver.state['v']\n",
    "vy = solver.state['vy']\n",
    "p = solver.state['p']\n",
    "rho = solver.state['rho']"
   ]
  },
  {
   "cell_type": "markdown",
   "id": "5bab62a9",
   "metadata": {},
   "source": [
    "Set the solver parameters"
   ]
  },
  {
   "cell_type": "code",
   "execution_count": null,
   "id": "0a973cf1",
   "metadata": {},
   "outputs": [],
   "source": [
    "solver.stop_sim_time = 10.01\n",
    "solver.stop_wall_time = np.inf\n",
    "solver.stop_iteration = np.inf"
   ]
  },
  {
   "cell_type": "markdown",
   "id": "f18ebaa4",
   "metadata": {},
   "source": [
    "Set initial timestep and CFL conditions"
   ]
  },
  {
   "cell_type": "code",
   "execution_count": null,
   "id": "541b7a8d",
   "metadata": {},
   "outputs": [],
   "source": [
    "initial_dt = 0.1*Lx/nx\n",
    "cfl = flow_tools.CFL(solver,initial_dt,safety=0.5,threshold=0.05)\n",
    "cfl.add_velocities(('u','v'))"
   ]
  },
  {
   "cell_type": "markdown",
   "id": "e6388ad6",
   "metadata": {},
   "source": [
    "### Initial conditions"
   ]
  },
  {
   "cell_type": "code",
   "execution_count": null,
   "id": "3db9542a",
   "metadata": {},
   "outputs": [],
   "source": [
    "Set initial conditions with a sinusoidal perturbation in vertical velocity"
   ]
  },
  {
   "cell_type": "code",
   "execution_count": null,
   "id": "20853ad7",
   "metadata": {},
   "outputs": [],
   "source": [
    "a = 0.02\n",
    "amp = -0.2\n",
    "sigma = 0.2\n",
    "flow = -1.0\n",
    "u['g'] = flow*np.tanh(y/a)\n",
    "rho['g'] = -0.1*np.tanh(y/a)\n",
    "v['g'] = amp*np.exp(-y**2/sigma**2)*np.sin(4*np.pi*x/Lx)"
   ]
  },
  {
   "cell_type": "code",
   "execution_count": null,
   "id": "e052de27",
   "metadata": {},
   "outputs": [],
   "source": [
    "## Solving"
   ]
  },
  {
   "cell_type": "code",
   "execution_count": null,
   "id": "b16924ca",
   "metadata": {},
   "outputs": [],
   "source": [
    "Prepare the variables that will be saved for analysis (this is optional)"
   ]
  },
  {
   "cell_type": "code",
   "execution_count": null,
   "id": "d880a6f8",
   "metadata": {},
   "outputs": [],
   "source": [
    "analysis = solver.evaluator.add_file_handler('analysis_tasks', sim_dt=0.1, max_writes=50)\n",
    "analysis.add_task('rho')\n",
    "analysis.add_task('u')\n",
    "analysis.add_task('0.5*(u**2+v**2)',name='KE',scales=(3/2,3/2))\n",
    "solver.evaluator.vars['Lx'] = Lx"
   ]
  },
  {
   "cell_type": "code",
   "execution_count": null,
   "id": "1b1f4cc6",
   "metadata": {},
   "outputs": [],
   "source": [
    "### Plotting initial state"
   ]
  },
  {
   "cell_type": "code",
   "execution_count": null,
   "id": "4a84ef17",
   "metadata": {},
   "outputs": [],
   "source": [
    "Make the plot for the initial state"
   ]
  },
  {
   "cell_type": "code",
   "execution_count": null,
   "id": "06c02d96",
   "metadata": {},
   "outputs": [],
   "source": [
    "x = domain.grid(0,scales=domain.dealias)\n",
    "y = domain.grid(1,scales=domain.dealias)\n",
    "xm, ym = np.meshgrid(x,y)\n",
    "fig, axis = plt.subplots(figsize=(8,5))\n",
    "rho.set_scales(domain.dealias)\n",
    "u.set_scales(domain.dealias)\n",
    "v.set_scales(domain.dealias)\n",
    "p = axis.pcolormesh(xm, ym, rho['g'].T, cmap='RdYlBu')\n",
    "q = axis.quiver(xm[::10,::10],ym[::10,::10], u['g'][::10,::10].T, v['g'][::10,::10].T)\n",
    "axis.set_xlim([0,2.])\n",
    "axis.set_ylim([-0.5,0.5])\n",
    "plt.savefig(f'./Kelvin-Helmholtz_000.png')"
   ]
  },
  {
   "cell_type": "code",
   "execution_count": null,
   "id": "ef189e6e",
   "metadata": {},
   "outputs": [],
   "source": [
    "### Move into solving loop"
   ]
  },
  {
   "cell_type": "code",
   "execution_count": null,
   "id": "2342fe7f",
   "metadata": {},
   "outputs": [],
   "source": [
    "logger.info('Starting loop')\n",
    "start_time = time.time()\n",
    "nt=1\n",
    "while solver.ok:\n",
    "    dt = cfl.compute_dt()\n",
    "    solver.step(dt)\n",
    "    if solver.iteration % 10 == 0:\n",
    "        # Update plot of scalar field and the velocities\n",
    "        p.set_array(rho['g'].T)\n",
    "        q.set_UVC(u['g'][::10,::10].T, v['g'][::10,::10].T)\n",
    "        axis.set_title('t = %f' %solver.sim_time)\n",
    "        axis.set_title('Density')\n",
    "        fig.canvas.draw()\n",
    "        plt.savefig(f'./Kelvin-Helmholtz_{nt:03d}.png')\n",
    "        nt+=1"
   ]
  },
  {
   "cell_type": "markdown",
   "id": "823b3ca2",
   "metadata": {},
   "source": [
    "### ending program with information"
   ]
  },
  {
   "cell_type": "code",
   "execution_count": null,
   "id": "1e9048b4",
   "metadata": {},
   "outputs": [],
   "source": [
    "end_time = time.time()\n",
    "logger.info('Run time: %f' %(end_time-start_time))\n",
    "logger.info('Iterations: %i' %solver.iteration)"
   ]
  }
 ],
 "metadata": {
  "kernelspec": {
   "display_name": "Python 3 (ipykernel)",
   "language": "python",
   "name": "python3"
  },
  "language_info": {
   "codemirror_mode": {
    "name": "ipython",
    "version": 3
   },
   "file_extension": ".py",
   "mimetype": "text/x-python",
   "name": "python",
   "nbconvert_exporter": "python",
   "pygments_lexer": "ipython3",
   "version": "3.11.0"
  }
 },
 "nbformat": 4,
 "nbformat_minor": 5
}
