{
 "cells": [
  {
   "cell_type": "markdown",
   "id": "ba3a91d2",
   "metadata": {},
   "source": [
    "# Rayleigh-Taylor Instability"
   ]
  },
  {
   "cell_type": "markdown",
   "id": "3e5183ce",
   "metadata": {},
   "source": [
    "We will represent an incompressible, viscous, diffusive, Boussinesq fluid to simulate a Rayleigh-Taylor instability. \n",
    "\n",
    "<img src=\"./Rayleigh-Taylor.jpeg\" width=\"600\" height=\"300\" />\n",
    "\n",
    "This exercise was designed for the course Waves and Instabilities in Geophysical Fluid Dynamics of the Master's Degree in Advanced Physics and Applied Mathematics, at University of the Balearic Islands (Spain).\n",
    "\n",
    "Author: Daniel Argüeso\n",
    "Email: d.argueso@uib.es\n",
    "\n",
    "Feb-2023"
   ]
  },
  {
   "cell_type": "markdown",
   "id": "d260a46a",
   "metadata": {},
   "source": [
    "## Import modules"
   ]
  },
  {
   "cell_type": "code",
   "execution_count": null,
   "id": "2ff666a0",
   "metadata": {},
   "outputs": [
    {
     "ename": "",
     "evalue": "",
     "output_type": "error",
     "traceback": [
      "\u001b[1;31mRunning cells with '/usr/bin/python' requires the ipykernel package.\n",
      "\u001b[1;31mRun the following command to install 'ipykernel' into the Python environment. \n",
      "\u001b[1;31mCommand: '/usr/bin/python -m pip install ipykernel -U --user --force-reinstall'"
     ]
    }
   ],
   "source": [
    "import numpy as np\n",
    "from dedalus import public as de\n",
    "from dedalus.extras import flow_tools\n",
    "import matplotlib.pyplot as plt\n",
    "import h5py\n",
    "import time"
   ]
  },
  {
   "cell_type": "markdown",
   "id": "f69d07bb",
   "metadata": {},
   "source": [
    "## Import and set logging"
   ]
  },
  {
   "cell_type": "code",
   "execution_count": 5,
   "id": "6dd0970a",
   "metadata": {},
   "outputs": [],
   "source": [
    "import logging\n",
    "root = logging.root\n",
    "for h in root.handlers:\n",
    "    h.setLevel(\"INFO\")\n",
    "logger = logging.getLogger(__name__)"
   ]
  },
  {
   "cell_type": "markdown",
   "id": "305703ee",
   "metadata": {},
   "source": [
    "## Define the problem"
   ]
  },
  {
   "cell_type": "markdown",
   "id": "83048cc3",
   "metadata": {},
   "source": [
    "### Set problem domain"
   ]
  },
  {
   "cell_type": "markdown",
   "id": "815d6d2c",
   "metadata": {},
   "source": [
    "You need to define the domain of the problem. The first two items indicate the aspect ratio. For exmaple (2,1). The second one indicates the number of grid points in each direction. They should be consistent with the aspect ratio"
   ]
  },
  {
   "cell_type": "code",
   "execution_count": 6,
   "id": "78cf2ef9",
   "metadata": {},
   "outputs": [],
   "source": [
    "Lx, Ly = (2., 1.)\n",
    "nx, ny = (512, 256)"
   ]
  },
  {
   "cell_type": "markdown",
   "id": "feee1a6c",
   "metadata": {},
   "source": [
    "### Create bases and domain"
   ]
  },
  {
   "cell_type": "markdown",
   "id": "de5d13e3",
   "metadata": {},
   "source": [
    "They basically define the transformation between the grid space and the spectral space. There are various types of basis, but the most popular are:\n",
    "- Fourier: to define periodic functions in an intervarl (usually the direction of the flow)\n",
    "- Chebyshev: general functions in an interval (they require boundary conditions, usually top and bottom)\n",
    "\n",
    "For each basis we specify the direction, the dimensions, the interval and the dealising. Dealising is used to evaluate operators in the Fourier space and for numerical stability. We use the default 3/2.\n",
    "\n",
    "Then, the domain, which combines both bases and the dimensions above to define the problem domain"
   ]
  },
  {
   "cell_type": "code",
   "execution_count": 7,
   "id": "ec8d0aeb",
   "metadata": {},
   "outputs": [],
   "source": [
    "x_basis = de.Fourier('x', nx, interval = (0,Lx), dealias =3/2) \n",
    "y_basis = de.Chebyshev('y', ny, interval=(-Ly/2, Ly/2), dealias=3/2) #You must set boundary conditions with Chebyshev. Do not change dealias.\n",
    "domain = de.Domain([x_basis,y_basis], grid_dtype=np.float64)"
   ]
  },
  {
   "cell_type": "markdown",
   "id": "68515cec",
   "metadata": {},
   "source": [
    "### Set parameters"
   ]
  },
  {
   "cell_type": "markdown",
   "id": "7325159b",
   "metadata": {},
   "source": [
    "This is optional, but it is a good practice to define parameters that will then be used in the equations. We will need to assign to dedalus parameters within our problem later on, as we will see."
   ]
  },
  {
   "cell_type": "code",
   "execution_count": 8,
   "id": "11c43d7e",
   "metadata": {},
   "outputs": [],
   "source": [
    "Reynolds = 3e2\n",
    "Schmidt = 1e2\n",
    "g = 9.81"
   ]
  },
  {
   "cell_type": "markdown",
   "id": "1e33951e",
   "metadata": {},
   "source": [
    "### Define the problem and the equations"
   ]
  },
  {
   "cell_type": "markdown",
   "id": "a20d4104",
   "metadata": {},
   "source": [
    "We define the problem. We have different options, but we will use Initial value problem (IVP) in all of our exercises.\n",
    "When we define the problem, we have to specify the domain, the variables, the parameters and the equations.\n",
    "\n",
    "In the first command, we take the domain specifications we defined before and we define the variables that the problem will use. Here, for example we have pressure, horizontal and vertical velocities, and density. On top of that we also have vertical derivatives of density, and velocities, which we will need to specify the equations."
   ]
  },
  {
   "cell_type": "code",
   "execution_count": 9,
   "id": "bd382f52",
   "metadata": {},
   "outputs": [],
   "source": [
    "#IVP: Initial value problem. uy, vy and rhoy are the partial derivatives of those variables.\n",
    "problem = de.IVP(domain, variables = ['p','u','uy','v','vy','rho','rhoy']) "
   ]
  },
  {
   "cell_type": "markdown",
   "id": "b36bacfa",
   "metadata": {},
   "source": [
    "Next, we define the parameters in the problem's framework, so that they can be used in the equations"
   ]
  },
  {
   "cell_type": "code",
   "execution_count": 10,
   "id": "f2c80025",
   "metadata": {},
   "outputs": [],
   "source": [
    "problem.parameters['Re'] = Reynolds\n",
    "problem.parameters['Sc'] = Schmidt \n",
    "problem.parameters['g'] = g"
   ]
  },
  {
   "cell_type": "markdown",
   "id": "0587a6cd",
   "metadata": {},
   "source": [
    "Now we move on to solving the problem. We need have a crear idea of what the equations of the problem will be, and then write them in dedalus notation.\n",
    "\n",
    "These are the problem equations for the Rayleigh-Taylor instability:\n",
    "\n",
    "$$ \\partial_t u + \\boldsymbol{u}\\boldsymbol{\\cdot}\\boldsymbol{\\nabla} u + \\frac{\\partial_x p}{\\rho_0} =  \\frac{1}{{\\rm Re}} \\nabla^2 u $$\n",
    "$$ \\partial_t v + \\boldsymbol{u}\\boldsymbol{\\cdot}\\boldsymbol{\\nabla} v + \\frac{\\partial_y p}{\\rho_0} + \\frac{\\rho g}{\\rho_0} =  \\frac{1}{{\\rm Re}} \\nabla^2 v $$\n",
    "$$ \\boldsymbol{\\nabla}\\boldsymbol{\\cdot}\\boldsymbol{u} = 0 $$\n",
    "$$ \\partial_t \\rho + \\boldsymbol{u}\\boldsymbol{\\cdot}\\boldsymbol{\\nabla} \\rho = \\frac{1}{{\\rm ReSc}} \\nabla^2 \\rho $$"
   ]
  },
  {
   "cell_type": "code",
   "execution_count": 11,
   "id": "433304ed",
   "metadata": {},
   "outputs": [],
   "source": [
    "#Equations cannot have no-linear terms (two partial derivatives) on the rhs so we need to define a variable uy beforehand\n",
    "# All no-linear terms must go on the lhs.\n",
    "# An important step in programming the equations is to define what goes on each side.\n",
    "# Use these as reference to build upon.\n",
    "\n",
    "problem.add_equation(\"dt(u) + dx(p) - 1/Re*(dx(dx(u)) + dy(uy)) = - u*dx(u) - v*dy(u)\") \n",
    "problem.add_equation(\"dt(v) + dy(p) - 1/Re*(dx(dx(v)) + dy(vy)) + g*rho = -u*dx(v) - v*vy\")\n",
    "problem.add_equation(\"dx(u) + vy = 0\")\n",
    "problem.add_equation(\"dt(rho) - 1/(Re*Sc)*(dx(dx(rho)) + dy(rhoy)) = -u*dx(rho) - v*rhoy\")\n"
   ]
  },
  {
   "cell_type": "code",
   "execution_count": 12,
   "id": "258097c4",
   "metadata": {},
   "outputs": [],
   "source": [
    "# These are the definitions of the variables that replace  partial derivatives to avoid non-linear terms on the rhs.\n",
    "\n",
    "problem.add_equation(\"vy - dy(v) = 0\")\n",
    "problem.add_equation(\"uy - dy(u) = 0\")\n",
    "problem.add_equation(\"rhoy - dy(rho) = 0\")"
   ]
  },
  {
   "cell_type": "markdown",
   "id": "745b4890",
   "metadata": {},
   "source": [
    "### Define the boundary conditions"
   ]
  },
  {
   "cell_type": "markdown",
   "id": "cf67497f",
   "metadata": {},
   "source": [
    "As a general rule, for every derivate on y (our special dimension, Chebyshev), we need to add one boundary conditions. \n",
    "One of them is the pressure gauge."
   ]
  },
  {
   "cell_type": "code",
   "execution_count": 13,
   "id": "efa7bf11",
   "metadata": {},
   "outputs": [],
   "source": [
    "problem.add_bc(\"left(u) = 0\")\n",
    "problem.add_bc(\"right(u) = 0\")\n",
    "problem.add_bc(\"left(v) = 0\")\n",
    "problem.add_bc(\"right(v) = 0\", condition=\"(nx != 0)\")\n",
    "problem.add_bc(\"integ(p,'y') = 0\", condition=\"(nx == 0)\")\n",
    "problem.add_bc(\"left(rho) = -0.1\") #left down\n",
    "problem.add_bc(\"right(rho) = 0.1\") #right up\n",
    "\n",
    "# We need to choose the boundary conditions, which will make the problem stable or not.\n",
    "# This is the second challenge in defining the problem.\n",
    "# Remember that the right and left edges of the domain were defined using Fourier, which means they are periodic and thus what exits through one edge comes in through the opposite edge.\n"
   ]
  },
  {
   "cell_type": "markdown",
   "id": "0a5417e3",
   "metadata": {},
   "source": [
    "## Define the solver"
   ]
  },
  {
   "cell_type": "markdown",
   "id": "8301f372",
   "metadata": {},
   "source": [
    "### Timestepping"
   ]
  },
  {
   "cell_type": "markdown",
   "id": "c2f44cd5",
   "metadata": {},
   "source": [
    "We have different numerical schemes we can choose from. In our examples, we will use the RK443, but feel free to try others. You may read the documentation to see the full range of options."
   ]
  },
  {
   "cell_type": "code",
   "execution_count": 14,
   "id": "e388ef64",
   "metadata": {},
   "outputs": [],
   "source": [
    "ts = de.timesteppers.RK443"
   ]
  },
  {
   "cell_type": "markdown",
   "id": "9127e0dc",
   "metadata": {},
   "source": [
    "### Building the solver"
   ]
  },
  {
   "cell_type": "markdown",
   "id": "b301fdc0",
   "metadata": {},
   "source": [
    "Here we simply initialize the solver."
   ]
  },
  {
   "cell_type": "code",
   "execution_count": 15,
   "id": "ec6622c0",
   "metadata": {},
   "outputs": [
    {
     "name": "stdout",
     "output_type": "stream",
     "text": [
      "2023-02-07 21:29:09,329 pencil 0/1 INFO :: Building pencil matrix 1/256 (~0%) Elapsed: 0s, Remaining: 5s, Rate: 5.3e+01/s\n",
      "2023-02-07 21:29:09,814 pencil 0/1 INFO :: Building pencil matrix 26/256 (~10%) Elapsed: 1s, Remaining: 4s, Rate: 5.2e+01/s\n",
      "2023-02-07 21:29:10,414 pencil 0/1 INFO :: Building pencil matrix 52/256 (~20%) Elapsed: 1s, Remaining: 4s, Rate: 4.7e+01/s\n",
      "2023-02-07 21:29:11,051 pencil 0/1 INFO :: Building pencil matrix 78/256 (~30%) Elapsed: 2s, Remaining: 4s, Rate: 4.5e+01/s\n",
      "2023-02-07 21:29:11,634 pencil 0/1 INFO :: Building pencil matrix 104/256 (~41%) Elapsed: 2s, Remaining: 3s, Rate: 4.5e+01/s\n",
      "2023-02-07 21:29:12,272 pencil 0/1 INFO :: Building pencil matrix 130/256 (~51%) Elapsed: 3s, Remaining: 3s, Rate: 4.4e+01/s\n",
      "2023-02-07 21:29:12,893 pencil 0/1 INFO :: Building pencil matrix 156/256 (~61%) Elapsed: 4s, Remaining: 2s, Rate: 4.4e+01/s\n",
      "2023-02-07 21:29:13,557 pencil 0/1 INFO :: Building pencil matrix 182/256 (~71%) Elapsed: 4s, Remaining: 2s, Rate: 4.3e+01/s\n",
      "2023-02-07 21:29:14,168 pencil 0/1 INFO :: Building pencil matrix 208/256 (~81%) Elapsed: 5s, Remaining: 1s, Rate: 4.3e+01/s\n",
      "2023-02-07 21:29:14,753 pencil 0/1 INFO :: Building pencil matrix 234/256 (~91%) Elapsed: 5s, Remaining: 1s, Rate: 4.3e+01/s\n",
      "2023-02-07 21:29:15,298 pencil 0/1 INFO :: Building pencil matrix 256/256 (~100%) Elapsed: 6s, Remaining: 0s, Rate: 4.3e+01/s\n"
     ]
    }
   ],
   "source": [
    "solver =  problem.build_solver(ts)\n",
    "\n",
    "x = domain.grid(0)\n",
    "y = domain.grid(1)\n",
    "u = solver.state['u']\n",
    "uy = solver.state['uy']\n",
    "v = solver.state['v']\n",
    "vy = solver.state['vy']\n",
    "p = solver.state['p']\n",
    "rho = solver.state['rho']\n",
    "rhoy = solver.state['rhoy']"
   ]
  },
  {
   "cell_type": "markdown",
   "id": "ce45b207",
   "metadata": {},
   "source": [
    "Set the solver parameters"
   ]
  },
  {
   "cell_type": "markdown",
   "id": "5a19b5d7",
   "metadata": {},
   "source": [
    "Here we define some paramters, to help stop the simulation. In our case, we define the maximum duration, but we can define others."
   ]
  },
  {
   "cell_type": "code",
   "execution_count": 16,
   "id": "66e38991",
   "metadata": {},
   "outputs": [],
   "source": [
    "solver.stop_sim_time = 10.01\n",
    "solver.stop_wall_time = np.inf\n",
    "solver.stop_iteration = np.inf"
   ]
  },
  {
   "cell_type": "markdown",
   "id": "9a4f2f02",
   "metadata": {},
   "source": [
    "Set initial timestep and CFL conditions"
   ]
  },
  {
   "cell_type": "markdown",
   "id": "997fabd5",
   "metadata": {},
   "source": [
    "We set the initial timestep, which will be later modified to ensure stability and optimize the simulation depending on the problem itself. We can also define cfl conditions based on velocities."
   ]
  },
  {
   "cell_type": "code",
   "execution_count": 17,
   "id": "9faa9a1d",
   "metadata": {},
   "outputs": [],
   "source": [
    "# If the problem is unstable in the first step, we need to set a smaller timestep.\n",
    "# If the problem si completely stable, the time step will grow indefinitely.\n",
    "initial_dt = 0.05*Lx/nx \n",
    "cfl = flow_tools.CFL(solver,initial_dt,safety=0.5,threshold=0.05)\n",
    "cfl.add_velocities(('u','v'))"
   ]
  },
  {
   "cell_type": "markdown",
   "id": "59dc530f",
   "metadata": {},
   "source": [
    "### Initial conditions"
   ]
  },
  {
   "cell_type": "markdown",
   "id": "fa7b9cbe",
   "metadata": {},
   "source": [
    "Once the problem and the solver are set, we need to describe the initial conditions. These are critical to the problem and may be the difference between success and failure. A right choice of the initial conditions will produce the instability we are studying or simply make the model crash."
   ]
  },
  {
   "cell_type": "markdown",
   "id": "31f05b5a",
   "metadata": {},
   "source": [
    "Create array with noise for initial conditions"
   ]
  },
  {
   "cell_type": "code",
   "execution_count": 18,
   "id": "d356ad3f",
   "metadata": {},
   "outputs": [],
   "source": [
    "# Initial conditions must include some noise to nudge the system to instabilities can grow. Otherwise, the system will be in a unstable equilibrium.\n",
    "slices = domain.dist.grid_layout.slices(scales=1)\n",
    "rand = np.random.RandomState(seed=42)\n",
    "noise = rand.standard_normal(gshape)[slices] "
   ]
  },
  {
   "cell_type": "markdown",
   "id": "9f69e911",
   "metadata": {},
   "source": [
    "Set the initial conditions for velocity and density"
   ]
  },
  {
   "cell_type": "code",
   "execution_count": 19,
   "id": "1f4a0bd1",
   "metadata": {},
   "outputs": [],
   "source": [
    "a = 0.02\n",
    "amp = -0.2\n",
    "sigma = 0.2\n",
    "flow = -1.0\n",
    "u['g'] = 0\n",
    "rho['g'] = 0.1*np.tanh(4*y/a) # hyperbolic tangent function\n",
    "v['g'] = noise / 40"
   ]
  },
  {
   "cell_type": "markdown",
   "id": "42c6c1ad",
   "metadata": {},
   "source": [
    "## Solving"
   ]
  },
  {
   "cell_type": "markdown",
   "id": "bdf2612a",
   "metadata": {},
   "source": [
    "In this step run the solver. At the same time we save some information for analysis we may want to make later on. And draw the plots every certain number of timesteps. Saving the analysis is not necessary, but it may be helpful to modify plots without having to run the entire simulation again."
   ]
  },
  {
   "cell_type": "markdown",
   "id": "5463482a",
   "metadata": {},
   "source": [
    "Prepare the variables that will be saved for analysis (this is optional)"
   ]
  },
  {
   "cell_type": "code",
   "execution_count": 20,
   "id": "df11b540",
   "metadata": {},
   "outputs": [],
   "source": [
    "# This way we can save variables so that the plot can be redone after. \n",
    "analysis = solver.evaluator.add_file_handler('analysis_tasks', sim_dt=0.1, max_writes=50)\n",
    "analysis.add_task('rho')\n",
    "analysis.add_task('u')\n",
    "solver.evaluator.vars['Lx'] = Lx "
   ]
  },
  {
   "cell_type": "markdown",
   "id": "40b307d7",
   "metadata": {},
   "source": [
    "### Plotting initial state"
   ]
  },
  {
   "cell_type": "markdown",
   "id": "447b36cb",
   "metadata": {},
   "source": [
    "Make the plot for the initial state"
   ]
  },
  {
   "cell_type": "code",
   "execution_count": 21,
   "id": "bff2b956",
   "metadata": {},
   "outputs": [
    {
     "data": {
      "image/png": "[encoded data removed]",
      "text/plain": [
       "<Figure size 800x500 with 1 Axes>"
      ]
     },
     "metadata": {},
     "output_type": "display_data"
    }
   ],
   "source": [
    "# Drawing inital state\n",
    "x = domain.grid(0,scales=domain.dealias) \n",
    "y = domain.grid(1,scales=domain.dealias)\n",
    "xm, ym = np.meshgrid(x,y)\n",
    "fig, axis = plt.subplots(figsize=(8,5))\n",
    "rho.set_scales(domain.dealias)\n",
    "p = axis.pcolormesh(xm, ym, rho['g'].T, cmap='RdYlBu')\n",
    "axis.set_title('Density')\n",
    "axis.set_xlim([0,2.])\n",
    "axis.set_ylim([-0.5,0.5])\n",
    "plt.savefig(f'./Rayleigh-Taylor_000.png')"
   ]
  },
  {
   "cell_type": "markdown",
   "id": "d423c9d2",
   "metadata": {},
   "source": [
    "### Move into solving loop"
   ]
  },
  {
   "cell_type": "code",
   "execution_count": null,
   "id": "8f3d1a55",
   "metadata": {},
   "outputs": [
    {
     "name": "stdout",
     "output_type": "stream",
     "text": [
      "2023-02-07 21:29:17,780 __main__ 0/1 INFO :: Starting loop\n"
     ]
    }
   ],
   "source": [
    "logger.info('Starting loop')\n",
    "start_time = time.time()\n",
    "nt=1\n",
    "while solver.ok:\n",
    "    dt = cfl.compute_dt() \n",
    "    solver.step(dt)\n",
    "    # We make a plot every certain number of timesteps, not for all\n",
    "    if solver.iteration % 5 == 0:\n",
    "        p.set_array(rho['g'].T)\n",
    "        axis.set_title('Density')\n",
    "        fig.canvas.draw()\n",
    "        plt.savefig(f'./Rayleigh-Taylor_{nt:03d}.png')\n",
    "        nt+=1"
   ]
  },
  {
   "cell_type": "markdown",
   "id": "dcfd3f5d",
   "metadata": {},
   "source": [
    "### ending program with information"
   ]
  },
  {
   "cell_type": "code",
   "execution_count": null,
   "id": "098f10ba",
   "metadata": {},
   "outputs": [],
   "source": [
    "end_time = time.time()\n",
    "logger.info('Run time: %f' %(end_time-start_time))\n",
    "logger.info('Iterations: %i' %solver.iteration)"
   ]
  },
  {
   "cell_type": "code",
   "execution_count": null,
   "id": "c327b072",
   "metadata": {},
   "outputs": [],
   "source": []
  }
 ],
 "metadata": {
  "kernelspec": {
   "display_name": "Python 3 (ipykernel)",
   "language": "python",
   "name": "python3"
  },
  "language_info": {
   "codemirror_mode": {
    "name": "ipython",
    "version": 3
   },
   "file_extension": ".py",
   "mimetype": "text/x-python",
   "name": "python",
   "nbconvert_exporter": "python",
   "pygments_lexer": "ipython3",
   "version": "2.7.17"
  },
  "vscode": {
   "interpreter": {
    "hash": "8b3fd21ea41fd6ca6e503715a4515c781be62ea7fbe0c822ea49f11fc92c57ea"
   }
  }
 },
 "nbformat": 4,
 "nbformat_minor": 5
}
