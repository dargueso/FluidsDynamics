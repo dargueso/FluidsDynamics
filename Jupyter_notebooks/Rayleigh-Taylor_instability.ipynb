{
 "cells": [
  {
   "cell_type": "markdown",
   "id": "ba3a91d2",
   "metadata": {},
   "source": [
    "# Rayleigh-Taylor Instability"
   ]
  },
  {
   "cell_type": "markdown",
   "id": "3e5183ce",
   "metadata": {},
   "source": [
    "We will represent an incompressible, viscous, diffusive, Boussinesq fluid to simulate a Rayleigh-Taylor instability. \n",
    "\n",
    "This exercise was designed for the course Waves and Instabilities in Geophysical Fluid Dynamics of the Master's Degree in Advanced Physics and Applied Mathematics, at University of the Balearic Islands (Spain).\n",
    "\n",
    "Author: Daniel Argüeso\n",
    "Email: d.argueso@uib.es\n",
    "\n",
    "Feb-2023"
   ]
  },
  {
   "cell_type": "markdown",
   "id": "d260a46a",
   "metadata": {},
   "source": [
    "## Import modules"
   ]
  },
  {
   "cell_type": "code",
   "execution_count": null,
   "id": "2ff666a0",
   "metadata": {},
   "outputs": [],
   "source": [
    "import numpy as np\n",
    "from dedalus import public as de\n",
    "from dedalus.extras import flow_tools\n",
    "import matplotlib.pyplot as plt\n",
    "import h5py\n",
    "import time"
   ]
  },
  {
   "cell_type": "markdown",
   "id": "f69d07bb",
   "metadata": {},
   "source": [
    "## Import and set logging"
   ]
  },
  {
   "cell_type": "code",
   "execution_count": null,
   "id": "6dd0970a",
   "metadata": {},
   "outputs": [],
   "source": [
    "import logging\n",
    "root = logging.root\n",
    "for h in root.handlers:\n",
    "    h.setLevel(\"INFO\")\n",
    "logger = logging.getLogger(__name__)"
   ]
  },
  {
   "cell_type": "markdown",
   "id": "305703ee",
   "metadata": {},
   "source": [
    "## Define the problem"
   ]
  },
  {
   "cell_type": "markdown",
   "id": "83048cc3",
   "metadata": {},
   "source": [
    "### Set problem domain"
   ]
  },
  {
   "cell_type": "code",
   "execution_count": null,
   "id": "78cf2ef9",
   "metadata": {},
   "outputs": [],
   "source": [
    "Lx, Ly = (2., 1.)\n",
    "nx, ny = (1024, 512)"
   ]
  },
  {
   "cell_type": "markdown",
   "id": "feee1a6c",
   "metadata": {},
   "source": [
    "### Create bases and domain"
   ]
  },
  {
   "cell_type": "code",
   "execution_count": null,
   "id": "ec8d0aeb",
   "metadata": {},
   "outputs": [],
   "source": [
    "x_basis = de.Fourier('x', nx, interval = (0,Lx), dealias =3/2)\n",
    "y_basis = de.Chebyshev('y', ny, interval=(-Ly/2, Ly/2), dealias=3/2)\n",
    "domain = de.Domain([x_basis,y_basis], grid_dtype=np.float64)"
   ]
  },
  {
   "cell_type": "markdown",
   "id": "68515cec",
   "metadata": {},
   "source": [
    "### Set parameters"
   ]
  },
  {
   "cell_type": "code",
   "execution_count": null,
   "id": "11c43d7e",
   "metadata": {},
   "outputs": [],
   "source": [
    "Reynolds = 3e2\n",
    "Schmidt = 1e2\n",
    "g = 9.81"
   ]
  },
  {
   "cell_type": "markdown",
   "id": "1e33951e",
   "metadata": {},
   "source": [
    "### Define the problem and the equations"
   ]
  },
  {
   "cell_type": "code",
   "execution_count": null,
   "id": "bd382f52",
   "metadata": {},
   "outputs": [],
   "source": [
    "problem = de.IVP(domain, variables = ['p','u','uy','v','vy','rho','rhoy'])"
   ]
  },
  {
   "cell_type": "code",
   "execution_count": null,
   "id": "5e808a4f",
   "metadata": {},
   "outputs": [],
   "source": [
    "problem.parameters['Re'] = Reynolds\n",
    "problem.parameters['Sc'] = Schmidt \n",
    "problem.parameters['g'] = g"
   ]
  },
  {
   "cell_type": "markdown",
   "id": "0587a6cd",
   "metadata": {},
   "source": [
    "These are the problem equations:"
   ]
  },
  {
   "cell_type": "code",
   "execution_count": null,
   "id": "433304ed",
   "metadata": {},
   "outputs": [],
   "source": [
    "problem.add_equation(\"dt(u) + dx(p) - 1/Re*(dx(dx(u)) + dy(uy)) = - u*dx(u) - v*dy(u)\")\n",
    "problem.add_equation(\"dt(v) + dy(p) - 1/Re*(dx(dx(v)) + dy(vy)) + g*rho = -u*dx(v) - v*vy\")\n",
    "problem.add_equation(\"dx(u) + vy = 0\")\n",
    "problem.add_equation(\"dt(rho) - 1/(Re*Sc)*(dx(dx(rho)) + dy(rhoy)) = -u*dx(rho) - v*rhoy\")\n",
    "problem.add_equation(\"vy - dy(v) = 0\")\n",
    "problem.add_equation(\"uy - dy(u) = 0\")\n",
    "problem.add_equation(\"rhoy - dy(rho) = 0\")"
   ]
  },
  {
   "cell_type": "markdown",
   "id": "745b4890",
   "metadata": {},
   "source": [
    "### Define the boundary conditions"
   ]
  },
  {
   "cell_type": "code",
   "execution_count": null,
   "id": "efa7bf11",
   "metadata": {},
   "outputs": [],
   "source": [
    "problem.add_bc(\"left(u) = 0\")\n",
    "problem.add_bc(\"right(u) = 0\")\n",
    "problem.add_bc(\"left(v) = 0\")\n",
    "problem.add_bc(\"right(v) = 0\", condition=\"(nx != 0)\")\n",
    "problem.add_bc(\"integ(p,'y') = 0\", condition=\"(nx == 0)\")\n",
    "problem.add_bc(\"left(rho) = -0.1\")\n",
    "problem.add_bc(\"right(rho) = 0.1\")"
   ]
  },
  {
   "cell_type": "markdown",
   "id": "0a5417e3",
   "metadata": {},
   "source": [
    "## Define the solver"
   ]
  },
  {
   "cell_type": "markdown",
   "id": "8301f372",
   "metadata": {},
   "source": [
    "### Timestepping"
   ]
  },
  {
   "cell_type": "code",
   "execution_count": null,
   "id": "e388ef64",
   "metadata": {},
   "outputs": [],
   "source": [
    "ts = de.timesteppers.RK443"
   ]
  },
  {
   "cell_type": "markdown",
   "id": "9127e0dc",
   "metadata": {},
   "source": [
    "### Building the solver"
   ]
  },
  {
   "cell_type": "code",
   "execution_count": null,
   "id": "ec6622c0",
   "metadata": {},
   "outputs": [],
   "source": [
    "solver =  problem.build_solver(ts)\n",
    "\n",
    "x = domain.grid(0)\n",
    "y = domain.grid(1)\n",
    "u = solver.state['u']\n",
    "v = solver.state['v']\n",
    "vy = solver.state['vy']\n",
    "p = solver.state['p']\n",
    "rho = solver.state['rho']\n",
    "rhoy = solver.state['rhoy']"
   ]
  },
  {
   "cell_type": "markdown",
   "id": "ce45b207",
   "metadata": {},
   "source": [
    "Set the solver parameters"
   ]
  },
  {
   "cell_type": "code",
   "execution_count": null,
   "id": "66e38991",
   "metadata": {},
   "outputs": [],
   "source": [
    "solver.stop_sim_time = 10.01\n",
    "solver.stop_wall_time = np.inf\n",
    "solver.stop_iteration = np.inf"
   ]
  },
  {
   "cell_type": "markdown",
   "id": "9a4f2f02",
   "metadata": {},
   "source": [
    "Set initial timestep and CFL conditions"
   ]
  },
  {
   "cell_type": "code",
   "execution_count": null,
   "id": "9faa9a1d",
   "metadata": {},
   "outputs": [],
   "source": [
    "initial_dt = 0.05*Lx/nx\n",
    "cfl = flow_tools.CFL(solver,initial_dt,safety=0.5,threshold=0.05)\n",
    "cfl.add_velocities(('u','v'))"
   ]
  },
  {
   "cell_type": "markdown",
   "id": "59dc530f",
   "metadata": {},
   "source": [
    "### Initial conditions"
   ]
  },
  {
   "cell_type": "markdown",
   "id": "31f05b5a",
   "metadata": {},
   "source": [
    "Create array with noise for initial conditions"
   ]
  },
  {
   "cell_type": "code",
   "execution_count": null,
   "id": "d356ad3f",
   "metadata": {},
   "outputs": [],
   "source": [
    "gshape = domain.dist.grid_layout.global_shape(scales=1)\n",
    "slices = domain.dist.grid_layout.slices(scales=1)\n",
    "rand = np.random.RandomState(seed=42)\n",
    "noise = rand.standard_normal(gshape)[slices]"
   ]
  },
  {
   "cell_type": "markdown",
   "id": "9f69e911",
   "metadata": {},
   "source": [
    "Set the initial conditions for velocity and density"
   ]
  },
  {
   "cell_type": "code",
   "execution_count": null,
   "id": "1f4a0bd1",
   "metadata": {},
   "outputs": [],
   "source": [
    "a = 0.02\n",
    "amp = -0.2\n",
    "sigma = 0.2\n",
    "flow = -1.0\n",
    "u['g'] = 0\n",
    "rho['g'] = 0.1*np.tanh(4*y/a)\n",
    "v['g'] = noise / 40"
   ]
  },
  {
   "cell_type": "markdown",
   "id": "42c6c1ad",
   "metadata": {},
   "source": [
    "## Solving"
   ]
  },
  {
   "cell_type": "markdown",
   "id": "5463482a",
   "metadata": {},
   "source": [
    "Prepare the variables that will be saved for analysis (this is optional)"
   ]
  },
  {
   "cell_type": "code",
   "execution_count": null,
   "id": "df11b540",
   "metadata": {},
   "outputs": [],
   "source": [
    "analysis = solver.evaluator.add_file_handler('analysis_tasks', sim_dt=0.1, max_writes=50)\n",
    "analysis.add_task('rho')\n",
    "analysis.add_task('u')\n",
    "solver.evaluator.vars['Lx'] = Lx"
   ]
  },
  {
   "cell_type": "markdown",
   "id": "40b307d7",
   "metadata": {},
   "source": [
    "### Plotting initial state"
   ]
  },
  {
   "cell_type": "markdown",
   "id": "447b36cb",
   "metadata": {},
   "source": [
    "Make the plot for the initial state"
   ]
  },
  {
   "cell_type": "code",
   "execution_count": null,
   "id": "bff2b956",
   "metadata": {},
   "outputs": [],
   "source": [
    "x = domain.grid(0,scales=domain.dealias)\n",
    "y = domain.grid(1,scales=domain.dealias)\n",
    "xm, ym = np.meshgrid(x,y)\n",
    "fig, axis = plt.subplots(figsize=(8,5))\n",
    "rho.set_scales(domain.dealias)\n",
    "p = axis.pcolormesh(xm, ym, rho['g'].T, cmap='RdYlBu')\n",
    "axis.set_title('Density')\n",
    "axis.set_xlim([0,2.])\n",
    "axis.set_ylim([-0.5,0.5])\n",
    "plt.savefig(f'./Rayleigh-Taylor_000.png')"
   ]
  },
  {
   "cell_type": "markdown",
   "id": "d423c9d2",
   "metadata": {},
   "source": [
    "### Move into solving loop"
   ]
  },
  {
   "cell_type": "code",
   "execution_count": null,
   "id": "8f3d1a55",
   "metadata": {},
   "outputs": [],
   "source": [
    "logger.info('Starting loop')\n",
    "start_time = time.time()\n",
    "nt=1\n",
    "while solver.ok:\n",
    "    dt = cfl.compute_dt()\n",
    "    solver.step(dt)\n",
    "    if solver.iteration % 5 == 0:\n",
    "        p.set_array(rho['g'].T)\n",
    "        axis.set_title('Density')\n",
    "        fig.canvas.draw()\n",
    "        plt.savefig(f'./Rayleigh-Taylor_{nt:03d}.png')\n",
    "        nt+=1"
   ]
  },
  {
   "cell_type": "markdown",
   "id": "dcfd3f5d",
   "metadata": {},
   "source": [
    "### ending program with information"
   ]
  },
  {
   "cell_type": "code",
   "execution_count": 7,
   "id": "098f10ba",
   "metadata": {},
   "outputs": [
    {
     "ename": "NameError",
     "evalue": "name 'time' is not defined",
     "output_type": "error",
     "traceback": [
      "\u001b[0;31m---------------------------------------------------------------------------\u001b[0m",
      "\u001b[0;31mNameError\u001b[0m                                 Traceback (most recent call last)",
      "Cell \u001b[0;32mIn[7], line 1\u001b[0m\n\u001b[0;32m----> 1\u001b[0m end_time \u001b[38;5;241m=\u001b[39m \u001b[43mtime\u001b[49m\u001b[38;5;241m.\u001b[39mtime()\n\u001b[1;32m      2\u001b[0m logger\u001b[38;5;241m.\u001b[39minfo(\u001b[38;5;124m'\u001b[39m\u001b[38;5;124mRun time: \u001b[39m\u001b[38;5;132;01m%f\u001b[39;00m\u001b[38;5;124m'\u001b[39m \u001b[38;5;241m%\u001b[39m(end_time\u001b[38;5;241m-\u001b[39mstart_time))\n\u001b[1;32m      3\u001b[0m logger\u001b[38;5;241m.\u001b[39minfo(\u001b[38;5;124m'\u001b[39m\u001b[38;5;124mIterations: \u001b[39m\u001b[38;5;132;01m%i\u001b[39;00m\u001b[38;5;124m'\u001b[39m \u001b[38;5;241m%\u001b[39msolver\u001b[38;5;241m.\u001b[39miteration)\n",
      "\u001b[0;31mNameError\u001b[0m: name 'time' is not defined"
     ]
    }
   ],
   "source": [
    "end_time = time.time()\n",
    "logger.info('Run time: %f' %(end_time-start_time))\n",
    "logger.info('Iterations: %i' %solver.iteration)"
   ]
  },
  {
   "cell_type": "code",
   "execution_count": null,
   "id": "c327b072",
   "metadata": {},
   "outputs": [],
   "source": []
  }
 ],
 "metadata": {
  "kernelspec": {
   "display_name": "Python 3 (ipykernel)",
   "language": "python",
   "name": "python3"
  },
  "language_info": {
   "codemirror_mode": {
    "name": "ipython",
    "version": 3
   },
   "file_extension": ".py",
   "mimetype": "text/x-python",
   "name": "python",
   "nbconvert_exporter": "python",
   "pygments_lexer": "ipython3",
   "version": "3.11.0"
  }
 },
 "nbformat": 4,
 "nbformat_minor": 5
}
