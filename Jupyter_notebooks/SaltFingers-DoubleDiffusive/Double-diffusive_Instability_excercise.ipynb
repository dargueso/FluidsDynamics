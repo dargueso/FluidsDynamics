{
 "cells": [
  {
   "cell_type": "markdown",
   "id": "fcf67ef2",
   "metadata": {},
   "source": [
    "# Double-diffusive Instability (salt fingers)"
   ]
  },
  {
   "cell_type": "markdown",
   "id": "cdb96e8f",
   "metadata": {},
   "source": [
    "We will represent an incompressible, viscous, diffusive, Boussinesq, double stratified fluid to simulate a double-diffusive instability or salt fingers.\n",
    "\n",
    "<img src=\"./DoubleDiffusive_small.jpeg\" width=\"400\" height=\"200\" />\n",
    "\n",
    "\n",
    "\n",
    "This exercise was designed for the course Waves and Instabilities in Geophysical Fluid Dynamics of the Master's Degree in Advanced Physics and Applied Mathematics, at University of the Balearic Islands (Spain).\n",
    "\n",
    "Author: Daniel Argüeso\n",
    "Email: d.argueso@uib.es\n",
    "\n",
    "Feb-2023"
   ]
  },
  {
   "attachments": {},
   "cell_type": "markdown",
   "id": "4af40ee0",
   "metadata": {},
   "source": [
    "**Equations**\n",
    "\n",
    "See Ku11.5\n",
    "\n",
    "$$ \\frac{\\partial \\bold u}{\\partial t} + \\bold u \\cdot \\nabla \\bold u = - \\frac{1}{\\rho_0} - g \\frac{\\rho}{\\rho_0} \\bold {\\hat k} + \\nu \\nabla^2 \\bold u$$\n",
    "$$\\frac{\\partial T}{\\partial t} + \\bold u \\cdot \\nabla T = k_T \\nabla^2 T$$\n",
    "$$\\frac{\\partial S}{\\partial t} + \\bold u \\cdot \\nabla S = k_S \\nabla^2 S$$\n",
    "$$ \\boldsymbol{\\nabla}\\boldsymbol{\\cdot}\\boldsymbol{u} = 0 $$\n",
    "$$ \\frac{\\rho - \\rho_0}{\\rho_0} = \\beta (S - S_0) - \\alpha (T -T0)\n",
    "$$\n",
    "\n",
    "Look in Singh and Srinivasan (2014) [https://doi.org/10.1063/1.4882264] (eqs 6-9) for the adimensional version of these equations, which are better for simulating. The paper is attached with this document [Singh and Srinivasan, 2014](./singh2014.pdf)\n",
    "\n"
   ]
  },
  {
   "attachments": {},
   "cell_type": "markdown",
   "id": "d4b3927a",
   "metadata": {},
   "source": [
    "**Recommended Parameters**\n",
    "\n",
    "(For adimensional equations)\n",
    "\n",
    "Pr = 7\n",
    "\n",
    "Sc = 700\n",
    "\n",
    "Rat = 3.33e6\n",
    "\n",
    "Rrho0 = 6\n"
   ]
  },
  {
   "attachments": {},
   "cell_type": "markdown",
   "id": "61c4433f",
   "metadata": {},
   "source": [
    "**Boundary conditions**\n",
    "\n"
   ]
  },
  {
   "attachments": {},
   "cell_type": "markdown",
   "id": "5295c0f3",
   "metadata": {},
   "source": [
    "* No-slip boundary conditions for both u and v (x4)\n",
    "* Neumann conditions for Temperature and Salinity (x4) \n",
    "* Pressure gauge"
   ]
  },
  {
   "cell_type": "markdown",
   "id": "624326bf",
   "metadata": {},
   "source": [
    "**Initial conditions**"
   ]
  },
  {
   "attachments": {},
   "cell_type": "markdown",
   "id": "18690eb9",
   "metadata": {},
   "source": [
    "* Fluid at rest\n",
    "* Vertical profile of temperature (np.tanh). Lighter at top, heavier at bottom. Add very small noise (1e-3)\n",
    "* Vertical profile of salinity (np.tahn). Saltier above, fresher below."
   ]
  }
 ],
 "metadata": {
  "kernelspec": {
   "display_name": "global-extremes",
   "language": "python",
   "name": "python3"
  },
  "language_info": {
   "codemirror_mode": {
    "name": "ipython",
    "version": 3
   },
   "file_extension": ".py",
   "mimetype": "text/x-python",
   "name": "python",
   "nbconvert_exporter": "python",
   "pygments_lexer": "ipython3",
   "version": "3.11.0"
  },
  "vscode": {
   "interpreter": {
    "hash": "850c952467cb5520d96b9d5d7b782c578a34b986c8f52454feda96b8b63af3e7"
   }
  }
 },
 "nbformat": 4,
 "nbformat_minor": 5
}
