{
 "cells": [
  {
   "attachments": {},
   "cell_type": "markdown",
   "id": "c5224daa",
   "metadata": {},
   "source": [
    "# Holmboe Instability"
   ]
  },
  {
   "attachments": {},
   "cell_type": "markdown",
   "id": "e4a23c3a",
   "metadata": {},
   "source": [
    "We will represent an incompressible, viscous, diffusive, Boussinesq, stratified fluid to simulate a Holmboe instability.\n",
    "This exercise is very similar to the K-H instabilities. You need to find the right set up (boundary and initial conditions) to trigger a Holmboe instability. See class notes to find resources that will help you choose those parameters.\n",
    "\n",
    "<img src=\"./Holmboe.png\" width=\"600\" height=\"300\" />\n",
    "\n",
    "\n",
    "\n",
    "This exercise was designed for the course Waves and Instabilities in Geophysical Fluid Dynamics of the Master's Degree in Advanced Physics and Applied Mathematics, at University of the Balearic Islands (Spain).\n",
    "\n",
    "Author: Daniel Argüeso\n",
    "Email: d.argueso@uib.es\n",
    "\n",
    "Feb-2023"
   ]
  },
  {
   "attachments": {},
   "cell_type": "markdown",
   "id": "f36c3b16",
   "metadata": {},
   "source": [
    "### Equations\n",
    "\n",
    "**The equations are the same as for Kelvin-Helmholtz**\n",
    "You need to find the right setup to obtain Holmboe instability. Check the supporting information.\n",
    "\n",
    "See CR 14.2 (PDF version pg 429 - equations pg 431)\n",
    "\n",
    "Next we will define the equations that will be solved on this domain.  The equations are\n",
    "\n",
    "$$ \\partial_t u + \\boldsymbol{u}\\boldsymbol{\\cdot}\\boldsymbol{\\nabla} u + \\frac{\\partial_x p}{\\rho_0} =  \\frac{1}{{\\rm Re}} \\nabla^2 u $$\n",
    "$$ \\partial_t v + \\boldsymbol{u}\\boldsymbol{\\cdot}\\boldsymbol{\\nabla} v + \\frac{\\partial_y p}{\\rho_0} + \\frac{\\rho g}{\\rho_0} =  \\frac{1}{{\\rm Re}} \\nabla^2 v $$\n",
    "$$ \\boldsymbol{\\nabla}\\boldsymbol{\\cdot}\\boldsymbol{u} = 0 $$\n",
    "$$ \\partial_t \\rho + \\boldsymbol{u}\\boldsymbol{\\cdot}\\boldsymbol{\\nabla} \\rho = 0 $$\n",
    "\n",
    "The equations are written such that the left-hand side (LHS) is treated implicitly, and the right-hand side (RHS) is treated explicitly.  The LHS is limited to only linear terms, though linear terms can also be placed on the RHS.  Since $y$ is our special direction in this example, we also restrict the LHS to be at most first order in derivatives with respect to $y$.\n",
    "\n",
    "**Note**: Note that, unlike the R-T example, there is no diffusivity in the density equation here. You can try to add diffusivity like we did for the R-T example and see what happens. You can use Prandtl number =1. The equation will thus be:\n",
    "\n",
    "$$ \\partial_t \\rho + \\boldsymbol{u}\\boldsymbol{\\cdot}\\boldsymbol{\\nabla} \\rho = \\frac{1}{{\\rm PrSc}} \\nabla^2 \\rho $$\n",
    "    \n",
    "\n",
    "but you need to make some changes to the number of variables and boundary conditions."
   ]
  },
  {
   "attachments": {},
   "cell_type": "markdown",
   "id": "c23232d2",
   "metadata": {},
   "source": [
    "### Recommended parameters\n",
    "\n",
    "You may start testing these, but you will have to read the supporting information to fine-tune these values.\n",
    "\n",
    "Reynolds = 1200\n",
    "\n",
    "Prandtl = 9"
   ]
  },
  {
   "attachments": {},
   "cell_type": "markdown",
   "id": "3eeb5694",
   "metadata": {},
   "source": [
    "### Boundary conditions"
   ]
  },
  {
   "attachments": {},
   "cell_type": "markdown",
   "id": "4d5d0d5e",
   "metadata": {},
   "source": [
    "You need 5 different boundary conditions. You may start by trying:\n",
    "* Neumann type for horizontal velocity\n",
    "* Dirichlet (no slip) for vertical velocity at top and bottom walls\n",
    "* Pressure gauge"
   ]
  },
  {
   "attachments": {},
   "cell_type": "markdown",
   "id": "e6388ad6",
   "metadata": {},
   "source": [
    "### Initial conditions\n",
    "\n",
    "**This step is crucial to obtain a Holmboe instability** If not set adequately, you will likely get a K-H instability. You need to have:\n",
    "* Two layers with flows in oposite directions so that there's shear (use np.tanh to define this)\n",
    "* A vertical profile in rho that described a stratified fluid with two layers (also use np.tanh)\n",
    "* A sinusoidal perturbation for vertical velocity (For example: A * np.exp(-y<sup>2</sup>/σ<sup>2</sup>) * np.sin(N * np.pi * x/Lx))"
   ]
  }
 ],
 "metadata": {
  "kernelspec": {
   "display_name": "dedalus2",
   "language": "python",
   "name": "python3"
  },
  "language_info": {
   "codemirror_mode": {
    "name": "ipython",
    "version": 3
   },
   "file_extension": ".py",
   "mimetype": "text/x-python",
   "name": "python",
   "nbconvert_exporter": "python",
   "pygments_lexer": "ipython3",
   "version": "3.11.0"
  },
  "vscode": {
   "interpreter": {
    "hash": "8b3fd21ea41fd6ca6e503715a4515c781be62ea7fbe0c822ea49f11fc92c57ea"
   }
  }
 },
 "nbformat": 4,
 "nbformat_minor": 5
}
