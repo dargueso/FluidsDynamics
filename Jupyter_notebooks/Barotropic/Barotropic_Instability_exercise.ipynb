{
 "cells": [
  {
   "cell_type": "markdown",
   "id": "d1b886e8",
   "metadata": {},
   "source": [
    "# Barotropic Instability"
   ]
  },
  {
   "attachments": {},
   "cell_type": "markdown",
   "id": "39dc51f8",
   "metadata": {},
   "source": [
    "We will represent an incompressible, inviscid, homogeneous Boussinesq fluid to simulate a Barotropic Instability.\n",
    "\n",
    "This exercise was designed for the course Waves and Instabilities in Geophysical Fluid Dynamics of the Master's Degree in Advanced Physics and Applied Mathematics, at University of the Balearic Islands (Spain).\n",
    "\n",
    "Author: Daniel Argüeso\n",
    "Email: d.argueso@uib.es\n",
    "\n",
    "Feb-2023"
   ]
  },
  {
   "attachments": {},
   "cell_type": "markdown",
   "id": "f4428253",
   "metadata": {},
   "source": [
    "**Notes**: \n",
    "* Use periodic boundary conditions in both directions, as opposed to other exercises. Choose Fourier bases in both directions.\n",
    "* Because the boundary conditions will be set through the vorticity, we will also need to define vorcitity as a function of the streamfunction, but the problem definition will only need one variable and one equation. To define new variables as a function of others, you can use:\n",
    "problem.substitutions[\"y\"] = \"f(x)\" \n",
    "* It is easier to define initial conditions for vorticity instead of the streamfunction. See comments [below](#initial-conditions)\n",
    "* In the analysis, you need to get vorticity, which is the variable that you will plot later (or you can plot it straight away, without the analysis, but it is not recommended)"
   ]
  },
  {
   "attachments": {},
   "cell_type": "markdown",
   "id": "9baec839",
   "metadata": {},
   "source": [
    "### Equations"
   ]
  },
  {
   "attachments": {},
   "cell_type": "markdown",
   "id": "46b3fdb3",
   "metadata": {},
   "source": [
    "We will derive the equation for the barotropic instbaility using vorticity and streamfunction, and assuming a B-plane approximattion.\n",
    "\n",
    "$$ \\frac{D}{Dt}[\\omega] = 0 $$\n",
    "$$ \\zeta = \\nabla \\times \\bold{u} $$\n",
    "where:\n",
    "\n",
    "$$ \\omega = \\zeta + f $$\n",
    "\n",
    "and ω is the absolute vorticity, ζ is the local or relative vorticity:\n",
    "\n",
    "$$ \\zeta = \\nabla \\times \\bold{u} $$\n",
    "\n",
    "and f is the planetary vorticity.\n",
    "\n",
    "If we want to study an incompressible two-dimensional flow:\n",
    "\n",
    "$$ \\bold{u} = (u,v) $$\n",
    "\n",
    "$$ \\psi = \\nabla \\times (\\psi \\hat{e}_z) $$\n",
    "\n",
    "Thus the local vorticity meets:\n",
    "\n",
    "$$ \\zeta = \\nabla^2 \\psi $$\n",
    "\n",
    "Since ∂/∂t[f] = 0, the first equation can be written as (using the beta-plane approximation):\n",
    "\n",
    "$$ \\frac{D}{Dt}ζ + u \\cdot \\boldsymbol{\\nabla} f = 0 \\rightarrow \\frac{D}{Dt}ζ = -v\\Beta $$ \n",
    "\n",
    "\n",
    "If we write this in terms of the stream function, we obtain the equation for the Barotropic instability:\n",
    "\n",
    "$$ \\frac{D}{Dt} [\\nabla^2 {\\psi}] =  -\\beta \\frac{\\partial\\psi}{\\partial x}$$\n",
    "\n",
    "Or alternatively:\n",
    "\n",
    "\n",
    "$$ \\partial_t \\zeta =  -\\beta \\frac{\\partial\\psi}{\\partial x} + \\mathbb{J}(\\psi,\\zeta)$$\n",
    "\n"
   ]
  },
  {
   "attachments": {},
   "cell_type": "markdown",
   "id": "1a5a31a0",
   "metadata": {},
   "source": [
    "### Recommended Parameters\n",
    "\n",
    "Beta = 15"
   ]
  },
  {
   "attachments": {},
   "cell_type": "markdown",
   "id": "cb3d3a45",
   "metadata": {},
   "source": [
    "### Boundary conditions"
   ]
  },
  {
   "attachments": {},
   "cell_type": "markdown",
   "id": "70523df8",
   "metadata": {},
   "source": [
    "We need only one boundary condition for the streamfunction (equivalent to the pressure gauge)"
   ]
  },
  {
   "cell_type": "code",
   "execution_count": null,
   "id": "01b2e35c",
   "metadata": {},
   "outputs": [],
   "source": [
    "problem.add_equation(\"psi = 0\", condition=\"(nx == 0) and (ny == 0)\")"
   ]
  },
  {
   "attachments": {},
   "cell_type": "markdown",
   "id": "86c753ef",
   "metadata": {},
   "source": [
    "### Initial Conditions"
   ]
  },
  {
   "attachments": {},
   "cell_type": "markdown",
   "id": "8ae38370",
   "metadata": {},
   "source": [
    "Vorticity & velocity are no longer states of the system. They are true diagnostic variables.\n",
    "But you still might want to set initial condisitons based on vorticity (for example).\n",
    "To do this you'll have to solve for the streamfunction.\n",
    "\n",
    "Because we want to solve the equation for the streamfunction, but it is more convenient to give initial conditions for vorticity, we will calculate the initial streamfunction for a given vorticity"
   ]
  },
  {
   "cell_type": "code",
   "execution_count": null,
   "id": "2c175ead",
   "metadata": {},
   "outputs": [],
   "source": [
    "init = de.LBVP(domain, variables=[\"init_psi\"])\n",
    "gshape = domain.dist.grid_layout.global_shape(scales=1)\n",
    "slices = domain.dist.grid_layout.slices(scales=1)\n",
    "rand = np.random.RandomState(seed=42)\n",
    "noise = rand.standard_normal(gshape)[slices]"
   ]
  },
  {
   "cell_type": "markdown",
   "id": "d3c08409",
   "metadata": {},
   "source": [
    "Set the initial conditions vorticity: we need a central band of positive vorticity, and two bands of negative vorticity at the top and the bottom to create regions of zero vorticity and constant flow in between."
   ]
  },
  {
   "cell_type": "code",
   "execution_count": null,
   "id": "6f99753f",
   "metadata": {},
   "outputs": [],
   "source": [
    "zeta0 = domain.new_field()\n",
    "zeta0.set_scales(1)\n",
    "x, y = domain.grids(scales=1)"
   ]
  },
  {
   "cell_type": "code",
   "execution_count": null,
   "id": "a6935820",
   "metadata": {},
   "outputs": [],
   "source": [
    "zeta0[\"g\"] = noise / 40\n",
    "#Then create positive and negative vorticity horiztonal stripes\n",
    "init.parameters[\"zeta0\"] = zeta0"
   ]
  },
  {
   "cell_type": "code",
   "execution_count": null,
   "id": "744586d2",
   "metadata": {},
   "outputs": [],
   "source": [
    "#Complete with the relationship between zeta and psi to calculate init_psi from zeta0\n",
    "init.add_equation(\n",
    "        ,\n",
    "        condition=\"(nx != 0) or  (ny != 0)\",\n",
    "    )\n",
    "init.add_equation(\" init_psi = 0\", condition=\"(nx == 0) and (ny == 0)\") #This is the boundary condition"
   ]
  }
 ],
 "metadata": {
  "kernelspec": {
   "display_name": "global-extremes",
   "language": "python",
   "name": "python3"
  },
  "language_info": {
   "name": "python",
   "version": "3.11.0"
  },
  "vscode": {
   "interpreter": {
    "hash": "850c952467cb5520d96b9d5d7b782c578a34b986c8f52454feda96b8b63af3e7"
   }
  }
 },
 "nbformat": 4,
 "nbformat_minor": 5
}
