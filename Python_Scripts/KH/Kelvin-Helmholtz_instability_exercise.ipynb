{
 "cells": [
  {
   "cell_type": "markdown",
   "id": "c5224daa",
   "metadata": {},
   "source": [
    "# Kelvin-Helmholtz Instability"
   ]
  },
  {
   "cell_type": "markdown",
   "id": "e4a23c3a",
   "metadata": {},
   "source": [
    "We will represent an incompressible, viscous, diffusive, Boussinesq, stratified fluid to simulate a Kelvin-Helmholtz instability.\n",
    "\n",
    "<img src=\"./Stratified_KH_small.jpeg\" width=\"600\" height=\"300\" />\n",
    "\n",
    "\n",
    "\n",
    "This exercise was designed for the course Waves and Instabilities in Geophysical Fluid Dynamics of the Master's Degree in Advanced Physics and Applied Mathematics, at University of the Balearic Islands (Spain).\n",
    "\n",
    "Author: Daniel Argüeso\n",
    "Email: d.argueso@uib.es"
   ]
  },
  {
   "cell_type": "markdown",
   "id": "16f65bf9",
   "metadata": {},
   "source": [
    "### Equations"
   ]
  },
  {
   "attachments": {},
   "cell_type": "markdown",
   "id": "ab8730f2",
   "metadata": {},
   "source": [
    "See CR 14.2 (PDF version pg 429 - equations pg 431)\n",
    "\n",
    "Next we will define the equations that will be solved on this domain.  The equations are\n",
    "\n",
    "$$ \\partial_t u + \\boldsymbol{u}\\boldsymbol{\\cdot}\\boldsymbol{\\nabla} u + \\frac{\\partial_x p}{\\rho_0} =  \\frac{1}{{\\rm Re}} \\nabla^2 u $$\n",
    "$$ \\partial_t v + \\boldsymbol{u}\\boldsymbol{\\cdot}\\boldsymbol{\\nabla} v + \\frac{\\partial_y p}{\\rho_0} + \\frac{\\rho g}{\\rho_0} =  \\frac{1}{{\\rm Re}} \\nabla^2 v $$\n",
    "$$ \\boldsymbol{\\nabla}\\boldsymbol{\\cdot}\\boldsymbol{u} = 0 $$\n",
    "$$ \\partial_t \\rho + \\boldsymbol{u}\\boldsymbol{\\cdot}\\boldsymbol{\\nabla} \\rho = 0 $$\n",
    "\n",
    "The equations are written such that the left-hand side (LHS) is treated implicitly, and the right-hand side (RHS) is treated explicitly.  The LHS is limited to only linear terms, though linear terms can also be placed on the RHS.  Since $y$ is our special direction in this example, we also restrict the LHS to be at most first order in derivatives with respect to $y$.\n",
    "\n",
    "**Note**: Note that, unlike the R-T example, there is no diffusivity in the density equation here. You can try to add diffusivity like we did for the R-T example and see what happens. You can use Prandtl number =1. The equation will thus be:\n",
    "\n",
    "$$ \\partial_t \\rho + \\boldsymbol{u}\\boldsymbol{\\cdot}\\boldsymbol{\\nabla} \\rho = \\frac{1}{{\\rm PrSc}} \\nabla^2 \\rho $$\n",
    "    \n",
    "\n",
    "but you need to make some changes to the number of variables and boundary conditions."
   ]
  },
  {
   "attachments": {},
   "cell_type": "markdown",
   "id": "b021cde9",
   "metadata": {},
   "source": [
    "### Recommended parameters"
   ]
  },
  {
   "attachments": {},
   "cell_type": "markdown",
   "id": "683aa4bb",
   "metadata": {},
   "source": [
    "g = 9.81\n",
    "Reynolds = 2e4\n",
    "Schmidt = 1e2\n",
    "Prandtl = 1e2"
   ]
  },
  {
   "attachments": {},
   "cell_type": "markdown",
   "id": "1f72de59",
   "metadata": {},
   "source": [
    "### Boundary conditions"
   ]
  },
  {
   "attachments": {},
   "cell_type": "markdown",
   "id": "d670dfb9",
   "metadata": {},
   "source": [
    "Here you will need 5 different boundary conditions, including the pressure gauge.\n",
    "* Two for horizontal velocity (consistent with the bacgkround flow). Dirichlet type, no-slip.\n",
    "* Two for vertical velocity. No-slip, no outgoing or incoming flow at the top and bottom walls.\n",
    "* Pressure gauge."
   ]
  },
  {
   "attachments": {},
   "cell_type": "markdown",
   "id": "a16feb0c",
   "metadata": {},
   "source": [
    "### Initial conditions"
   ]
  },
  {
   "attachments": {},
   "cell_type": "markdown",
   "id": "b7e4c2bb",
   "metadata": {},
   "source": [
    "Once the problem and the solver are set, we need to describe the initial conditions. These are critical to the problem and may be the difference between success and failure. A right choice of the initial conditions will produce the instability we are studying or simply make the model crash. Set initial conditions with:\n",
    "* a sinusoidal perturbation in vertical velocity (For example: A * np.exp(-y<sup>2</sup>/σ<sup>2</sup>) * np.sin(N * np.pi * x/Lx))\n",
    "* a vertical profile in the horizontal velocity using np.tanh (similar to two layers moving in oposite directions)\n",
    "* vertical profile in density to describe the stratification. Also using np.tanh."
   ]
  }
 ],
 "metadata": {
  "kernelspec": {
   "display_name": "dedalus2",
   "language": "python",
   "name": "python3"
  },
  "language_info": {
   "codemirror_mode": {
    "name": "ipython",
    "version": 3
   },
   "file_extension": ".py",
   "mimetype": "text/x-python",
   "name": "python",
   "nbconvert_exporter": "python",
   "pygments_lexer": "ipython3",
   "version": "3.11.0"
  },
  "vscode": {
   "interpreter": {
    "hash": "8b3fd21ea41fd6ca6e503715a4515c781be62ea7fbe0c822ea49f11fc92c57ea"
   }
  }
 },
 "nbformat": 4,
 "nbformat_minor": 5
}
