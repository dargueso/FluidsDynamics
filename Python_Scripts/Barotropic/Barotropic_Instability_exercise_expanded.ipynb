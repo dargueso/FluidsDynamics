{
 "cells": [
  {
   "cell_type": "markdown",
   "id": "d1b886e8",
   "metadata": {},
   "source": [
    "# Barotropic Instability"
   ]
  },
  {
   "attachments": {},
   "cell_type": "markdown",
   "id": "39dc51f8",
   "metadata": {},
   "source": [
    "We will represent an incompressible, inviscid, homogeneous Boussinesq fluid to simulate a Barotropic Instability.\n",
    "\n",
    "This exercise was designed for the course Waves and Instabilities in Geophysical Fluid Dynamics of the Master's Degree in Advanced Physics and Applied Mathematics, at University of the Balearic Islands (Spain).\n",
    "\n",
    "Author: Daniel Argüeso\n",
    "Email: d.argueso@uib.es\n",
    "\n",
    "Feb-2023"
   ]
  },
  {
   "attachments": {},
   "cell_type": "markdown",
   "id": "2b9c2214",
   "metadata": {},
   "source": [
    "## Import modules"
   ]
  },
  {
   "cell_type": "code",
   "execution_count": null,
   "id": "9530cdaa",
   "metadata": {},
   "outputs": [],
   "source": [
    "import numpy as np\n",
    "from dedalus import public as de\n",
    "from dedalus.extras import flow_tools\n",
    "import matplotlib.pyplot as plt\n",
    "import h5py\n",
    "import time"
   ]
  },
  {
   "attachments": {},
   "cell_type": "markdown",
   "id": "e12b2607",
   "metadata": {},
   "source": [
    "## Import and set logging"
   ]
  },
  {
   "cell_type": "code",
   "execution_count": null,
   "id": "b36825cf",
   "metadata": {},
   "outputs": [],
   "source": [
    "import logging\n",
    "root = logging.root\n",
    "for h in root.handlers:\n",
    "    h.setLevel(\"INFO\")\n",
    "logger = logging.getLogger(__name__)"
   ]
  },
  {
   "attachments": {},
   "cell_type": "markdown",
   "id": "bd77a9c3",
   "metadata": {},
   "source": [
    "## Define the problem"
   ]
  },
  {
   "attachments": {},
   "cell_type": "markdown",
   "id": "5bf112fa",
   "metadata": {},
   "source": [
    "### Set the problem domain"
   ]
  },
  {
   "attachments": {},
   "cell_type": "markdown",
   "id": "6b5ed465",
   "metadata": {},
   "source": [
    "You need to define the domain of the problem. The first two items indicate the aspect ratio. For exmaple (2,1). The second one indicates the number of grid points in each direction. They should be consistent with the aspect ratio"
   ]
  },
  {
   "cell_type": "code",
   "execution_count": null,
   "id": "ea2bde10",
   "metadata": {},
   "outputs": [],
   "source": [
    "Lx, Ly = \n",
    "nx, ny = "
   ]
  },
  {
   "attachments": {},
   "cell_type": "markdown",
   "id": "db412156",
   "metadata": {},
   "source": [
    "### Create bases and domain"
   ]
  },
  {
   "attachments": {},
   "cell_type": "markdown",
   "id": "af32d51e",
   "metadata": {},
   "source": [
    "They basically define the transformation between the grid space and the spectral space. There are various types of basis, but the most popular are:\n",
    "- Fourier: to define periodic functions in an intervarl (usually the direction of the flow)\n",
    "- Chebyshev: general functions in an interval (they require boundary conditions, usually top and bottom)\n",
    "\n",
    "For each basis we specify the direction, the dimensions, the interval and the dealising. Dealising is used to evaluate operators in the Fourier space and for numerical stability. We use the default 3/2.\n",
    "\n",
    "Then, the domain, which combines both bases and the dimensions above to define the problem domain"
   ]
  },
  {
   "cell_type": "code",
   "execution_count": null,
   "id": "8ac14ea9",
   "metadata": {},
   "outputs": [],
   "source": [
    "x_basis = de.Fourier(\"x\", nx, interval=(0, Lx), dealias=3 / 2)\n",
    "y_basis = de.Fourier(\"y\", ny, interval=(0, Ly), dealias=3 / 2)\n",
    "domain = de.Domain([x_basis, y_basis], grid_dtype=np.float64)"
   ]
  },
  {
   "attachments": {},
   "cell_type": "markdown",
   "id": "5d3f632e",
   "metadata": {},
   "source": [
    "### Set parameters"
   ]
  },
  {
   "cell_type": "code",
   "execution_count": null,
   "id": "3453096f",
   "metadata": {},
   "outputs": [],
   "source": [
    "Beta = 15\n"
   ]
  },
  {
   "attachments": {},
   "cell_type": "markdown",
   "id": "e4035037",
   "metadata": {},
   "source": [
    "### Define the problem and the equations\n"
   ]
  },
  {
   "attachments": {},
   "cell_type": "markdown",
   "id": "0d5dbdcb",
   "metadata": {},
   "source": [
    "We define the problem. We have different options, but we will use Initial value problem (IVP) in all of our exercises.\n",
    "When we define the problem, we have to specify the domain, the variables, the parameters and the equations.\n",
    "\n",
    "In the first command, we take the domain specifications we defined before and we define the variables that the problem will use. For the barotropic instability, we will need a single variable, the streamfunction.\n",
    "\n",
    "Because the boundary conditions will be set through the vorticity, we will also need to define vorcitity as a function of the streamfunction, but the problem definition will only need one variable and one equation. To define new variables as a function of others, you can use:\n",
    "problem.substitutions[\"y\"] = \"f(x)\" "
   ]
  },
  {
   "cell_type": "code",
   "execution_count": null,
   "id": "f5ba85c8",
   "metadata": {},
   "outputs": [],
   "source": [
    "#define the problem "
   ]
  },
  {
   "attachments": {},
   "cell_type": "markdown",
   "id": "d2af9a32",
   "metadata": {},
   "source": [
    "Next, we define the parameters in the problem's framework, so that they can be used in the equations"
   ]
  },
  {
   "cell_type": "code",
   "execution_count": null,
   "id": "83332ac5",
   "metadata": {},
   "outputs": [],
   "source": [
    "problem.parameters['Beta'] = Beta"
   ]
  },
  {
   "attachments": {},
   "cell_type": "markdown",
   "id": "95344fd2",
   "metadata": {},
   "source": [
    "Now we move on to solving the problem. We need have a crear idea of what the equations of the problem will be, and then write them in dedalus notation.\n",
    "\n",
    "We will derive the equation for the barotropic instbaility using vorticity and streamfunction, and assuming a B-plane approximattion.\n",
    "\n",
    "$$ \\frac{D}{Dt}[\\omega] = 0 $$\n",
    "$$ \\zeta = \\nabla \\times \\bold{u} $$\n",
    "where:\n",
    "\n",
    "$$ \\omega = \\zeta + f $$\n",
    "\n",
    "and ω is the absolute vorticity, ζ is the local or relative vorticity:\n",
    "\n",
    "$$ \\zeta = \\nabla \\times \\bold{u} $$\n",
    "\n",
    "and f is the planetary vorticity.\n",
    "\n",
    "If we want to study an incompressible two-dimensional flow:\n",
    "\n",
    "$$ \\bold{u} = (u,v) $$\n",
    "\n",
    "$$ \\psi = \\nabla \\times (\\psi \\hat{e}_z) $$\n",
    "\n",
    "Thus the local vorticity meets:\n",
    "\n",
    "$$ \\zeta = \\nabla^2 \\psi $$\n",
    "\n",
    "Since ∂/∂t[f] = 0, the first equation can be written as (using the beta-plane approximation):\n",
    "\n",
    "$$ \\frac{D}{Dt}ζ + u \\cdot \\boldsymbol{\\nabla} f = 0 \\rightarrow \\frac{D}{Dt}ζ = -v\\Beta $$ \n",
    "\n",
    "\n",
    "If we write this in terms of the stream function, we obtain the equation for the Barotropic instability:\n",
    "\n",
    "$$ \\frac{D}{Dt} [\\nabla^2 {\\psi}] =  -\\beta \\frac{\\partial\\psi}{\\partial x}$$\n",
    "\n",
    "Or alternatively:\n",
    "\n",
    "\n",
    "$$ \\partial_t \\zeta =  -\\beta \\frac{\\partial\\psi}{\\partial x} + \\mathbb{J}(\\psi,\\zeta)$$\n",
    "\n"
   ]
  },
  {
   "attachments": {},
   "cell_type": "markdown",
   "id": "8ae38370",
   "metadata": {},
   "source": [
    "Vorticity & velocity are no longer states of the system. They are true diagnostic variables.\n",
    "But you still might want to set initial condisitons based on vorticity (for example).\n",
    "To do this you'll have to solve for the streamfunction."
   ]
  },
  {
   "cell_type": "code",
   "execution_count": null,
   "metadata": {},
   "outputs": [],
   "source": [
    "#Substitutions\n",
    "problem.substitutions[\"v\"] = \"  dx(psi) \"\n",
    "\n",
    "# Add substituion for zeta as a function of psi\n",
    "\n",
    "## Add substitution for Jacobian"
   ]
  },
  {
   "cell_type": "code",
   "execution_count": null,
   "id": "790a844d",
   "metadata": {},
   "outputs": [],
   "source": [
    "## Now add the equation for zeta\n"
   ]
  },
  {
   "cell_type": "markdown",
   "id": "4b6f2986",
   "metadata": {},
   "source": [
    "### Define the boundary conditions"
   ]
  },
  {
   "attachments": {},
   "cell_type": "markdown",
   "id": "fc4a1b8b",
   "metadata": {},
   "source": [
    "We need only one boundary condition (equivalent to the pressure gauge)\n",
    "\n",
    "\n"
   ]
  },
  {
   "cell_type": "code",
   "execution_count": null,
   "id": "69c1b1c9",
   "metadata": {},
   "outputs": [],
   "source": [
    "problem.add_equation(\"psi = 0\", condition=\"(nx == 0) and (ny == 0)\")"
   ]
  },
  {
   "attachments": {},
   "cell_type": "markdown",
   "id": "ec4cb747",
   "metadata": {},
   "source": [
    "Because we want to solve the equation for the streamfunction, but it is more convenient to give initial conditions for vorticity, we will calculate the initial streamfunction for a given vorticity"
   ]
  },
  {
   "cell_type": "code",
   "execution_count": null,
   "id": "7bdf237f",
   "metadata": {},
   "outputs": [],
   "source": [
    "init = de.LBVP(domain, variables=[\"init_psi\"])\n"
   ]
  },
  {
   "attachments": {},
   "cell_type": "markdown",
   "id": "d4d366ea",
   "metadata": {},
   "source": [
    "Create array with noise for initial conditions"
   ]
  },
  {
   "cell_type": "code",
   "execution_count": null,
   "id": "90338e69",
   "metadata": {},
   "outputs": [],
   "source": [
    "gshape = domain.dist.grid_layout.global_shape(scales=1)\n",
    "slices = domain.dist.grid_layout.slices(scales=1)\n",
    "rand = np.random.RandomState(seed=42)\n",
    "noise = rand.standard_normal(gshape)[slices]"
   ]
  },
  {
   "attachments": {},
   "cell_type": "markdown",
   "id": "b8b3d524",
   "metadata": {},
   "source": [
    "Set the initial conditions vorticity: we need a central band of positive vorticity, and two bands of negative vorticity at the top and the bottom to create regions of zero vorticity and constant flow in between."
   ]
  },
  {
   "cell_type": "code",
   "execution_count": null,
   "id": "6f99753f",
   "metadata": {},
   "outputs": [],
   "source": [
    "zeta0 = domain.new_field()\n",
    "zeta0.set_scales(1)\n",
    "x, y = domain.grids(scales=1)"
   ]
  },
  {
   "cell_type": "code",
   "execution_count": null,
   "id": "a6935820",
   "metadata": {},
   "outputs": [],
   "source": [
    "zeta0[\"g\"] = noise / 40\n",
    "#Then create positive and negative vorticity horiztonal stripes\n",
    "init.parameters[\"zeta0\"] = zeta0"
   ]
  },
  {
   "cell_type": "code",
   "execution_count": null,
   "id": "744586d2",
   "metadata": {},
   "outputs": [],
   "source": [
    "#Complete with the relationship between zeta and psi to calculate init_psi from zeta0\n",
    "init.add_equation(\n",
    "        ,\n",
    "        condition=\"(nx != 0) or  (ny != 0)\",\n",
    "    )\n",
    "init.add_equation(\" init_psi = 0\", condition=\"(nx == 0) and (ny == 0)\") #This is the boundary condition"
   ]
  },
  {
   "attachments": {},
   "cell_type": "markdown",
   "id": "20ca9159",
   "metadata": {},
   "source": [
    "Set initial timestep and CFL conditions\n",
    "\n",
    "We set the initial timestep, which will be later modified to ensure stability and optimize the simulation depending on the problem itself. We can also define cfl conditions based on velocities."
   ]
  },
  {
   "cell_type": "code",
   "execution_count": null,
   "id": "b4e85faf",
   "metadata": {},
   "outputs": [],
   "source": [
    "dt = 1e-3  # Lx/nx\n",
    "    # You can set parameters to limit the size of the timestep.\n",
    "    CFL = flow_tools.CFL(\n",
    "        solver,\n",
    "        initial_dt=dt,\n",
    "        cadence=10,\n",
    "        safety=2,\n",
    "        max_change=1.5,\n",
    "        min_change=0.5,\n",
    "        max_dt=10 * dt,\n",
    "    )\n",
    "    CFL.add_velocities((\"u\", \"v\"))"
   ]
  },
  {
   "attachments": {},
   "cell_type": "markdown",
   "id": "2509809c",
   "metadata": {},
   "source": [
    "## Solving"
   ]
  },
  {
   "attachments": {},
   "cell_type": "markdown",
   "id": "ab6d5164",
   "metadata": {},
   "source": [
    "In this step run the solver. At the same time we save some information for analysis we may want to make later on. And draw the plots every certain number of timesteps. Saving the analysis is not necessary, but it may be helpful to modify plots without having to run the entire simulation again."
   ]
  },
  {
   "attachments": {},
   "cell_type": "markdown",
   "id": "9a1444a6",
   "metadata": {},
   "source": [
    "Prepare the variables that will be saved for analysis (this is optional)"
   ]
  },
  {
   "cell_type": "code",
   "execution_count": null,
   "id": "bfeb0ecc",
   "metadata": {},
   "outputs": [],
   "source": [
    "analysis = solver.evaluator.add_file_handler(\"analysis\", iter=50, max_writes=1000)\n",
    "# ADD analysis tasks (get vorticity as the laplacian of the streamfunction and velocities)"
   ]
  },
  {
   "cell_type": "markdown",
   "id": "a00f54df",
   "metadata": {},
   "source": [
    "### Plotting initial state"
   ]
  },
  {
   "attachments": {},
   "cell_type": "markdown",
   "id": "f3a27f2f",
   "metadata": {},
   "source": [
    "### Move into solving loop"
   ]
  },
  {
   "cell_type": "code",
   "execution_count": null,
   "id": "daef0528",
   "metadata": {},
   "outputs": [],
   "source": [
    "#Add logger, \n",
    "#Initialize timestep,\n",
    "# Initialize solver with while loop\n",
    "# Create plot every N iterations"
   ]
  },
  {
   "cell_type": "markdown",
   "id": "11140856",
   "metadata": {},
   "source": [
    "### ending program with information"
   ]
  },
  {
   "cell_type": "code",
   "execution_count": null,
   "id": "906c44a1",
   "metadata": {},
   "outputs": [],
   "source": [
    "end_time = time.time()\n",
    "logger.info('Run time: %f' %(end_time-start_time))\n",
    "logger.info('Iterations: %i' %solver.iteration)"
   ]
  }
 ],
 "metadata": {
  "kernelspec": {
   "display_name": "global-extremes",
   "language": "python",
   "name": "python3"
  },
  "language_info": {
   "name": "python",
   "version": "3.11.0"
  },
  "vscode": {
   "interpreter": {
    "hash": "850c952467cb5520d96b9d5d7b782c578a34b986c8f52454feda96b8b63af3e7"
   }
  }
 },
 "nbformat": 4,
 "nbformat_minor": 5
}
