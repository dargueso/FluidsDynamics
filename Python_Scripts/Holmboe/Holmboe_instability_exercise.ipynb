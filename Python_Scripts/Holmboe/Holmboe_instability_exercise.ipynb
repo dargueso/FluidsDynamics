{
 "cells": [
  {
   "attachments": {},
   "cell_type": "markdown",
   "id": "c5224daa",
   "metadata": {},
   "source": [
    "# Holmboe Instability"
   ]
  },
  {
   "attachments": {},
   "cell_type": "markdown",
   "id": "e4a23c3a",
   "metadata": {},
   "source": [
    "We will represent an incompressible, viscous, diffusive, Boussinesq, stratified fluid to simulate a Holmboe instability.\n",
    "This exercise is very similar to the K-H instabilities. You need to find the right set up (boundary and initial conditions) to trigger a Holmboe instability. See class notes to find resources that will help you choose those parameters.\n",
    "\n",
    "<img src=\"./Holmboe.png\" width=\"600\" height=\"300\" />\n",
    "\n",
    "\n",
    "\n",
    "This exercise was designed for the course Waves and Instabilities in Geophysical Fluid Dynamics of the Master's Degree in Advanced Physics and Applied Mathematics, at University of the Balearic Islands (Spain).\n",
    "\n",
    "Author: Daniel Argüeso\n",
    "Email: d.argueso@uib.es\n",
    "\n",
    "Feb-2023"
   ]
  },
  {
   "attachments": {},
   "cell_type": "markdown",
   "id": "2d52243f",
   "metadata": {},
   "source": []
  },
  {
   "attachments": {},
   "cell_type": "markdown",
   "id": "b021cde9",
   "metadata": {},
   "source": [
    "## Import modules"
   ]
  },
  {
   "cell_type": "code",
   "execution_count": null,
   "id": "e1207c91",
   "metadata": {},
   "outputs": [],
   "source": [
    "## Import modules\n",
    "import numpy as np\n",
    "from dedalus import public as de\n",
    "from dedalus.extras import flow_tools\n",
    "import matplotlib.pyplot as plt\n",
    "import h5py\n",
    "import time"
   ]
  },
  {
   "cell_type": "markdown",
   "id": "1c453c80",
   "metadata": {},
   "source": [
    "## Import and set logging"
   ]
  },
  {
   "cell_type": "code",
   "execution_count": null,
   "id": "4d06b952",
   "metadata": {},
   "outputs": [],
   "source": [
    "import logging\n",
    "root = logging.root\n",
    "for h in root.handlers:\n",
    "    h.setLevel(\"INFO\")\n",
    "logger = logging.getLogger(__name__)"
   ]
  },
  {
   "cell_type": "markdown",
   "id": "11c6c8db",
   "metadata": {},
   "source": [
    "## Define the problem"
   ]
  },
  {
   "cell_type": "markdown",
   "id": "b6ecad27",
   "metadata": {},
   "source": [
    "### Set problem domain"
   ]
  },
  {
   "cell_type": "markdown",
   "id": "74820720",
   "metadata": {},
   "source": [
    "You need to define the domain of the problem. The first two items indicate the aspect ratio. For exmaple (2,1). The second one indicates the number of grid points in each direction. They should be consistent with the aspect ratio"
   ]
  },
  {
   "cell_type": "code",
   "execution_count": null,
   "id": "a3458ab4",
   "metadata": {},
   "outputs": [],
   "source": [
    "Lx, Ly = \n",
    "nx, ny = "
   ]
  },
  {
   "cell_type": "markdown",
   "id": "f705544c",
   "metadata": {},
   "source": [
    "### Create bases and domain"
   ]
  },
  {
   "cell_type": "markdown",
   "id": "e6080611",
   "metadata": {},
   "source": [
    "They basically define the transformation between the grid space and the spectral space. There are various types of basis, but the most popular are:\n",
    "- Fourier: to define periodic functions in an intervarl (usually the direction of the flow)\n",
    "- Chebyshev: general functions in an interval (they require boundary conditions, usually top and bottom)\n",
    "\n",
    "For each basis we specify the direction, the dimensions, the interval and the dealising. Dealising is used to evaluate operators in the Fourier space and for numerical stability. We use the default 3/2.\n",
    "\n",
    "Then, the domain, which combines both bases and the dimensions above to define the problem domain"
   ]
  },
  {
   "cell_type": "code",
   "execution_count": null,
   "id": "d25ba008",
   "metadata": {},
   "outputs": [],
   "source": [
    "x_basis = de.Fourier('x', nx, interval = (0,Lx), dealias =3/2)\n",
    "y_basis = de.Chebyshev('y', ny, interval=(-Ly/2, Ly/2), dealias=3/2)\n",
    "domain = de.Domain([x_basis,y_basis], grid_dtype=np.float64)"
   ]
  },
  {
   "cell_type": "markdown",
   "id": "7f2b5241",
   "metadata": {},
   "source": [
    "### Set parameters"
   ]
  },
  {
   "cell_type": "code",
   "execution_count": null,
   "id": "155569c4",
   "metadata": {},
   "outputs": [],
   "source": [
    "Reynolds = \n",
    "g = "
   ]
  },
  {
   "cell_type": "markdown",
   "id": "cb70b8b4",
   "metadata": {},
   "source": [
    "### Define the problem and the equations"
   ]
  },
  {
   "attachments": {},
   "cell_type": "markdown",
   "id": "4075fe76",
   "metadata": {},
   "source": [
    "We define the problem. We have different options, but we will use Initial value problem (IVP) in all of our exercises.\n",
    "When we define the problem, we have to specify the domain, the variables, the parameters and the equations.\n",
    "\n",
    "In the first command, we take the domain specifications we defined before and we define the variables that the problem will use. Here, for example we have pressure, horizontal and vertical velocities, and density. On top of that we also have vertical derivatives of density, and velocities, which we will need to specify the equations."
   ]
  },
  {
   "cell_type": "code",
   "execution_count": null,
   "id": "16095c00",
   "metadata": {},
   "outputs": [],
   "source": [
    "problem = de.IVP(domain, variables = [])\n"
   ]
  },
  {
   "cell_type": "code",
   "execution_count": null,
   "id": "03f8e862",
   "metadata": {},
   "outputs": [],
   "source": [
    "problem.parameters['Re'] = Reynolds\n",
    "problem.parameters['g'] = g"
   ]
  },
  {
   "cell_type": "markdown",
   "id": "6f02583e",
   "metadata": {},
   "source": [
    "These are the problem equations:"
   ]
  },
  {
   "attachments": {},
   "cell_type": "markdown",
   "id": "38d67f20",
   "metadata": {},
   "source": [
    "**Equations**\n",
    "\n",
    "Next we will define the equations that will be solved on this domain.  The equations are\n",
    "\n",
    "$$ \\partial_t u + \\boldsymbol{u}\\boldsymbol{\\cdot}\\boldsymbol{\\nabla} u + \\frac{\\partial_x p}{\\rho_0} =  \\frac{1}{{\\rm Re}} \\nabla^2 u $$\n",
    "$$ \\partial_t v + \\boldsymbol{u}\\boldsymbol{\\cdot}\\boldsymbol{\\nabla} v + \\frac{\\partial_y p}{\\rho_0} + \\frac{\\rho g}{\\rho_0} =  \\frac{1}{{\\rm Re}} \\nabla^2 v $$\n",
    "$$ \\boldsymbol{\\nabla}\\boldsymbol{\\cdot}\\boldsymbol{u} = 0 $$\n",
    "$$ \\partial_t \\rho + \\boldsymbol{u}\\boldsymbol{\\cdot}\\boldsymbol{\\nabla} \\rho = 0 $$\n",
    "\n",
    "The equations are written such that the left-hand side (LHS) is treated implicitly, and the right-hand side (RHS) is treated explicitly.  The LHS is limited to only linear terms, though linear terms can also be placed on the RHS.  Since $y$ is our special direction in this example, we also restrict the LHS to be at most first order in derivatives with respect to $y$.\n"
   ]
  },
  {
   "cell_type": "code",
   "execution_count": null,
   "id": "f5c1a4c2",
   "metadata": {},
   "outputs": [],
   "source": [
    "#[ADD EQUATIONS]"
   ]
  },
  {
   "cell_type": "markdown",
   "id": "79d88ee5",
   "metadata": {},
   "source": [
    "### Define the boundary conditions"
   ]
  },
  {
   "attachments": {},
   "cell_type": "markdown",
   "id": "db5816cf",
   "metadata": {},
   "source": [
    "As a general rule, for every derivate on y (our special dimension, Chebyshev), we need to add one boundary conditions. \n",
    "One of them is the pressure gauge.\n",
    "\n",
    "Here you will need 5 different boundary conditions, including hte pressure gauge."
   ]
  },
  {
   "cell_type": "code",
   "execution_count": null,
   "id": "06f12228",
   "metadata": {},
   "outputs": [],
   "source": [
    "#[ADD BDY CONDS]\n",
    "# They can be of two types: Dirichlet or Neumann. Perhaps Neumann is better for the top and bottom walls?"
   ]
  },
  {
   "cell_type": "markdown",
   "id": "e3d527bd",
   "metadata": {},
   "source": [
    "## Define the solver"
   ]
  },
  {
   "cell_type": "markdown",
   "id": "01ae38cc",
   "metadata": {},
   "source": []
  },
  {
   "cell_type": "markdown",
   "id": "537f663b",
   "metadata": {},
   "source": [
    "### Timestepping"
   ]
  },
  {
   "cell_type": "markdown",
   "id": "9288b593",
   "metadata": {},
   "source": [
    "We have different numerical schemes we can choose from. In our examples, we will use the RK443, but feel free to try others. You may read the documentation to see the full range of options."
   ]
  },
  {
   "cell_type": "code",
   "execution_count": null,
   "id": "2344a972",
   "metadata": {},
   "outputs": [],
   "source": [
    "ts = de.timesteppers.RK443"
   ]
  },
  {
   "cell_type": "markdown",
   "id": "3a68182a",
   "metadata": {},
   "source": [
    "### Building the solver"
   ]
  },
  {
   "cell_type": "markdown",
   "id": "69204eab",
   "metadata": {},
   "source": [
    "Here we simply initialize the solver."
   ]
  },
  {
   "cell_type": "code",
   "execution_count": null,
   "id": "ce42acb7",
   "metadata": {},
   "outputs": [],
   "source": [
    "solver =  problem.build_solver(ts)\n",
    "\n",
    "x = domain.grid(0)\n",
    "y = domain.grid(1)\n",
    "u = solver.state['u']\n",
    "uy = solver.state['uy']\n",
    "v = solver.state['v']\n",
    "vy = solver.state['vy']\n",
    "p = solver.state['p']\n",
    "rho = solver.state['rho']"
   ]
  },
  {
   "cell_type": "markdown",
   "id": "5bab62a9",
   "metadata": {},
   "source": [
    "Set the solver parameters"
   ]
  },
  {
   "attachments": {},
   "cell_type": "markdown",
   "id": "887d84eb",
   "metadata": {},
   "source": [
    "Here we define some paramters, to help stop the simulation. In our case, we define the maximum duration, but we can define others."
   ]
  },
  {
   "cell_type": "code",
   "execution_count": null,
   "id": "0a973cf1",
   "metadata": {},
   "outputs": [],
   "source": [
    "solver.stop_sim_time = \n",
    "solver.stop_wall_time = \n",
    "solver.stop_iteration = "
   ]
  },
  {
   "cell_type": "markdown",
   "id": "f18ebaa4",
   "metadata": {},
   "source": [
    "Set initial timestep and CFL conditions"
   ]
  },
  {
   "cell_type": "markdown",
   "id": "e2cdcd61",
   "metadata": {},
   "source": [
    "We set the initial timestep, which will be later modified to ensure stability and optimize the simulation depending on the problem itself. We can also define cfl conditions based on velocities."
   ]
  },
  {
   "cell_type": "code",
   "execution_count": null,
   "id": "541b7a8d",
   "metadata": {},
   "outputs": [],
   "source": [
    "# Add initial timestep and CFL CONDITIONS"
   ]
  },
  {
   "cell_type": "markdown",
   "id": "e6388ad6",
   "metadata": {},
   "source": [
    "### Initial conditions"
   ]
  },
  {
   "attachments": {},
   "cell_type": "markdown",
   "id": "b7e4c2bb",
   "metadata": {},
   "source": [
    "Once the problem and the solver are set, we need to describe the initial conditions. These are critical to the problem and may be the difference between success and failure. A right choice of the initial conditions will produce the instability we are studying or simply make the model crash."
   ]
  },
  {
   "attachments": {},
   "cell_type": "markdown",
   "id": "3db9542a",
   "metadata": {},
   "source": [
    "Set initial conditions with a sinusoidal perturbation in vertical velocity\n",
    "**This step is crucial to obtain a Holmboe instability** If not set adequately, you will likely get a K-H instability."
   ]
  },
  {
   "cell_type": "code",
   "execution_count": null,
   "id": "20853ad7",
   "metadata": {},
   "outputs": [],
   "source": [
    "#Set intiial conditions using np.tanh for u and rho and np.exp * np.sin for v\n",
    "\n",
    "u['g'] = \n",
    "rho['g'] = \n",
    "v['g'] = "
   ]
  },
  {
   "cell_type": "markdown",
   "id": "e052de27",
   "metadata": {},
   "source": [
    "## Solving"
   ]
  },
  {
   "attachments": {},
   "cell_type": "markdown",
   "id": "818f4133",
   "metadata": {},
   "source": [
    "In this step run the solver. At the same time we save some information for analysis we may want to make later on. And draw the plots every certain number of timesteps. Saving the analysis is not necessary, but it may be helpful to modify plots without having to run the entire simulation again."
   ]
  },
  {
   "cell_type": "markdown",
   "id": "b16924ca",
   "metadata": {},
   "source": [
    "Prepare the variables that will be saved for analysis (this is optional)"
   ]
  },
  {
   "cell_type": "code",
   "execution_count": null,
   "id": "d880a6f8",
   "metadata": {},
   "outputs": [],
   "source": [
    "analysis = solver.evaluator.add_file_handler('analysis_tasks', sim_dt=0.1, max_writes=50)\n",
    "# ADD analysis tasks ( velocity, density)\n"
   ]
  },
  {
   "cell_type": "markdown",
   "id": "1b1f4cc6",
   "metadata": {},
   "source": [
    "### Plotting initial state"
   ]
  },
  {
   "attachments": {},
   "cell_type": "markdown",
   "id": "4a84ef17",
   "metadata": {},
   "source": [
    "Make the plot for the initial state\n",
    "(remember to use dealias before plotting, see R-T example)"
   ]
  },
  {
   "cell_type": "code",
   "execution_count": null,
   "id": "06c02d96",
   "metadata": {},
   "outputs": [],
   "source": [
    "#plot initial state"
   ]
  },
  {
   "cell_type": "markdown",
   "id": "ef189e6e",
   "metadata": {},
   "source": [
    "### Move into solving loop"
   ]
  },
  {
   "cell_type": "code",
   "execution_count": null,
   "id": "2342fe7f",
   "metadata": {},
   "outputs": [],
   "source": [
    "#Add logger, \n",
    "#Initialize timestep,\n",
    "# Initialize solver with while loop\n",
    "# Create plot every N iterations\n"
   ]
  },
  {
   "cell_type": "markdown",
   "id": "823b3ca2",
   "metadata": {},
   "source": [
    "### ending program with information"
   ]
  },
  {
   "cell_type": "code",
   "execution_count": null,
   "id": "1e9048b4",
   "metadata": {},
   "outputs": [],
   "source": [
    "end_time = time.time()\n",
    "logger.info('Run time: %f' %(end_time-start_time))\n",
    "logger.info('Iterations: %i' %solver.iteration)"
   ]
  }
 ],
 "metadata": {
  "kernelspec": {
   "display_name": "dedalus2",
   "language": "python",
   "name": "python3"
  },
  "language_info": {
   "codemirror_mode": {
    "name": "ipython",
    "version": 3
   },
   "file_extension": ".py",
   "mimetype": "text/x-python",
   "name": "python",
   "nbconvert_exporter": "python",
   "pygments_lexer": "ipython3",
   "version": "3.11.0"
  },
  "vscode": {
   "interpreter": {
    "hash": "8b3fd21ea41fd6ca6e503715a4515c781be62ea7fbe0c822ea49f11fc92c57ea"
   }
  }
 },
 "nbformat": 4,
 "nbformat_minor": 5
}
